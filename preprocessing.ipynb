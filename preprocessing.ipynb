{
 "cells": [
  {
   "cell_type": "code",
   "execution_count": 68,
   "metadata": {},
   "outputs": [],
   "source": [
    "import os\n",
    "import pickle"
   ]
  },
  {
   "cell_type": "code",
   "execution_count": 69,
   "metadata": {},
   "outputs": [],
   "source": [
    "import streamlit as st\n",
    "from dotenv import load_dotenv"
   ]
  },
  {
   "cell_type": "code",
   "execution_count": 70,
   "metadata": {},
   "outputs": [],
   "source": [
    "import pandas as pd"
   ]
  },
  {
   "cell_type": "code",
   "execution_count": 71,
   "metadata": {},
   "outputs": [],
   "source": [
    "from utils.b2 import B2\n",
    "from utils.modeling import *"
   ]
  },
  {
   "cell_type": "code",
   "execution_count": 72,
   "metadata": {},
   "outputs": [],
   "source": [
    "# ------------------------------------------------------\n",
    "#                      APP CONSTANTS\n",
    "# ------------------------------------------------------\n",
    "REMOTE_DATA1 = 'pbp-2013.csv'\n",
    "REMOTE_DATA2 = 'pbp-2014.csv'\n",
    "REMOTE_DATA3 = 'pbp-2015.csv'\n",
    "REMOTE_DATA4 = 'pbp-2016.csv'"
   ]
  },
  {
   "cell_type": "code",
   "execution_count": 73,
   "metadata": {},
   "outputs": [
    {
     "data": {
      "text/plain": [
       "True"
      ]
     },
     "execution_count": 73,
     "metadata": {},
     "output_type": "execute_result"
    }
   ],
   "source": [
    "# ------------------------------------------------------\n",
    "#                        CONFIG\n",
    "# ------------------------------------------------------\n",
    "load_dotenv()"
   ]
  },
  {
   "cell_type": "code",
   "execution_count": 74,
   "metadata": {},
   "outputs": [],
   "source": [
    "# load Backblaze connection\n",
    "b2 = B2(endpoint=os.environ['B2_ENDPOINT'],\n",
    "        key_id=os.environ['B2_KEYID'],\n",
    "        secret_key=os.environ['B2_APPKEY'])"
   ]
  },
  {
   "cell_type": "code",
   "execution_count": 75,
   "metadata": {},
   "outputs": [
    {
     "name": "stderr",
     "output_type": "stream",
     "text": [
      "2024-04-08 18:30:29.069 No runtime found, using MemoryCacheStorageManager\n"
     ]
    }
   ],
   "source": [
    "# ------------------------------------------------------\n",
    "#                        CACHING\n",
    "# ------------------------------------------------------\n",
    "@st.cache_data\n",
    "def get_data(data):\n",
    "    # collect data frame of reviews and their sentiment\n",
    "    b2.set_bucket(os.environ['B2_BUCKETNAME'])\n",
    "    df_pbp = b2.get_df(data)\n",
    "\n",
    "    return df_pbp"
   ]
  },
  {
   "cell_type": "code",
   "execution_count": 76,
   "metadata": {},
   "outputs": [],
   "source": [
    "#data1 = get_data(REMOTE_DATA1)\n",
    "data2 = get_data(REMOTE_DATA2)\n",
    "data3 = get_data(REMOTE_DATA3)\n",
    "data4 = get_data(REMOTE_DATA4)"
   ]
  },
  {
   "cell_type": "code",
   "execution_count": 77,
   "metadata": {},
   "outputs": [],
   "source": [
    "data = pd.concat([data2, data3, data4], axis=0)"
   ]
  },
  {
   "cell_type": "code",
   "execution_count": 78,
   "metadata": {},
   "outputs": [],
   "source": [
    "# data = get_data()\n",
    "# data"
   ]
  },
  {
   "cell_type": "code",
   "execution_count": 79,
   "metadata": {},
   "outputs": [
    {
     "name": "stdout",
     "output_type": "stream",
     "text": [
      "<class 'pandas.core.frame.DataFrame'>\n",
      "Index: 137923 entries, 0 to 45950\n",
      "Data columns (total 45 columns):\n",
      " #   Column                          Non-Null Count   Dtype  \n",
      "---  ------                          --------------   -----  \n",
      " 0   GameId                          137923 non-null  int64  \n",
      " 1   GameDate                        137923 non-null  object \n",
      " 2   Quarter                         137923 non-null  int64  \n",
      " 3   Minute                          137923 non-null  int64  \n",
      " 4   Second                          137923 non-null  int64  \n",
      " 5   OffenseTeam                     128067 non-null  object \n",
      " 6   DefenseTeam                     137923 non-null  object \n",
      " 7   Down                            137923 non-null  int64  \n",
      " 8   ToGo                            137923 non-null  int64  \n",
      " 9   YardLine                        137923 non-null  int64  \n",
      " 10  Unnamed: 10                     0 non-null       float64\n",
      " 11  SeriesFirstDown                 137923 non-null  int64  \n",
      " 12  Unnamed: 12                     0 non-null       float64\n",
      " 13  NextScore                       137923 non-null  int64  \n",
      " 14  Description                     137919 non-null  object \n",
      " 15  TeamWin                         137923 non-null  int64  \n",
      " 16  Unnamed: 16                     0 non-null       float64\n",
      " 17  Unnamed: 17                     0 non-null       float64\n",
      " 18  SeasonYear                      137923 non-null  int64  \n",
      " 19  Yards                           137923 non-null  int64  \n",
      " 20  Formation                       135747 non-null  object \n",
      " 21  PlayType                        133354 non-null  object \n",
      " 22  IsRush                          137923 non-null  int64  \n",
      " 23  IsPass                          137923 non-null  int64  \n",
      " 24  IsIncomplete                    137923 non-null  int64  \n",
      " 25  IsTouchdown                     137923 non-null  int64  \n",
      " 26  PassType                        57550 non-null   object \n",
      " 27  IsSack                          137923 non-null  int64  \n",
      " 28  IsChallenge                     137923 non-null  int64  \n",
      " 29  IsChallengeReversed             137923 non-null  int64  \n",
      " 30  Challenger                      0 non-null       float64\n",
      " 31  IsMeasurement                   137923 non-null  int64  \n",
      " 32  IsInterception                  137923 non-null  int64  \n",
      " 33  IsFumble                        137923 non-null  int64  \n",
      " 34  IsPenalty                       137923 non-null  int64  \n",
      " 35  IsTwoPointConversion            137923 non-null  int64  \n",
      " 36  IsTwoPointConversionSuccessful  137923 non-null  int64  \n",
      " 37  RushDirection                   37735 non-null   object \n",
      " 38  YardLineFixed                   137923 non-null  int64  \n",
      " 39  YardLineDirection               137923 non-null  object \n",
      " 40  IsPenaltyAccepted               137923 non-null  int64  \n",
      " 41  PenaltyTeam                     11825 non-null   object \n",
      " 42  IsNoPlay                        137923 non-null  int64  \n",
      " 43  PenaltyType                     11830 non-null   object \n",
      " 44  PenaltyYards                    137923 non-null  int64  \n",
      "dtypes: float64(5), int64(29), object(11)\n",
      "memory usage: 48.4+ MB\n"
     ]
    }
   ],
   "source": [
    "data.info()"
   ]
  },
  {
   "cell_type": "code",
   "execution_count": 80,
   "metadata": {},
   "outputs": [],
   "source": [
    "# Remove incompletions to make the data looks a bit more normal\n",
    "filtered_data = data[data['IsIncomplete'] != 1]\n",
    "# Keep only rows where 'PlayType' is either 'PASS' or 'RUSH'\n",
    "filtered_data = filtered_data[(filtered_data['PlayType'] == 'PASS') | (filtered_data['PlayType'] == 'RUSH')]"
   ]
  },
  {
   "cell_type": "code",
   "execution_count": 81,
   "metadata": {},
   "outputs": [],
   "source": [
    "filtered_data.reset_index(drop=True, inplace=True)"
   ]
  },
  {
   "cell_type": "code",
   "execution_count": 82,
   "metadata": {},
   "outputs": [],
   "source": [
    "# Create a dictionary to map unique offense team names to unique identifiers\n",
    "team_to_teamid = {team: i for i, team in enumerate(filtered_data['OffenseTeam'].unique(), start=1)}\n",
    "# Create the 'TeamID' column by mapping the 'OffenseTeam' column to the unique identifiers\n",
    "filtered_data['TeamID'] = filtered_data['OffenseTeam'].map(team_to_teamid)\n",
    "# Creating a unique situation identifier\n",
    "filtered_data['SitID'] = filtered_data['YardLine'] + 100 * filtered_data['ToGo'] + 10000 * filtered_data['Down'] + 100000 * filtered_data['TeamID']"
   ]
  },
  {
   "cell_type": "code",
   "execution_count": 83,
   "metadata": {},
   "outputs": [],
   "source": [
    "#csv_file_path = 'filtered_data.csv'\n",
    "#filtered_data.to_csv(csv_file_path, index=False)"
   ]
  },
  {
   "cell_type": "code",
   "execution_count": 84,
   "metadata": {},
   "outputs": [],
   "source": [
    "pass_type_mapping = {pass_type: i for i, pass_type in enumerate(filtered_data['PassType'].unique(), start=1)}\n",
    "rush_direction_mapping = {rush_direction: i for i, rush_direction in enumerate(filtered_data['RushDirection'].unique(), start=1)}"
   ]
  },
  {
   "cell_type": "code",
   "execution_count": null,
   "metadata": {},
   "outputs": [],
   "source": []
  },
  {
   "cell_type": "code",
   "execution_count": 85,
   "metadata": {},
   "outputs": [],
   "source": [
    "# Create the 'PlayID' column\n",
    "filtered_data['PlayID'] = filtered_data['IsRush'] * 100 + filtered_data['RushDirection'].map(rush_direction_mapping)\n",
    "filtered_data.loc[filtered_data['IsPass'] == 1, 'PlayID'] = 200 + filtered_data['PassType'].map(pass_type_mapping)"
   ]
  },
  {
   "cell_type": "code",
   "execution_count": 86,
   "metadata": {},
   "outputs": [
    {
     "data": {
      "text/html": [
       "<div>\n",
       "<style scoped>\n",
       "    .dataframe tbody tr th:only-of-type {\n",
       "        vertical-align: middle;\n",
       "    }\n",
       "\n",
       "    .dataframe tbody tr th {\n",
       "        vertical-align: top;\n",
       "    }\n",
       "\n",
       "    .dataframe thead th {\n",
       "        text-align: right;\n",
       "    }\n",
       "</style>\n",
       "<table border=\"1\" class=\"dataframe\">\n",
       "  <thead>\n",
       "    <tr style=\"text-align: right;\">\n",
       "      <th></th>\n",
       "      <th>GameId</th>\n",
       "      <th>GameDate</th>\n",
       "      <th>Quarter</th>\n",
       "      <th>Minute</th>\n",
       "      <th>Second</th>\n",
       "      <th>OffenseTeam</th>\n",
       "      <th>DefenseTeam</th>\n",
       "      <th>Down</th>\n",
       "      <th>ToGo</th>\n",
       "      <th>YardLine</th>\n",
       "      <th>...</th>\n",
       "      <th>YardLineFixed</th>\n",
       "      <th>YardLineDirection</th>\n",
       "      <th>IsPenaltyAccepted</th>\n",
       "      <th>PenaltyTeam</th>\n",
       "      <th>IsNoPlay</th>\n",
       "      <th>PenaltyType</th>\n",
       "      <th>PenaltyYards</th>\n",
       "      <th>TeamID</th>\n",
       "      <th>SitID</th>\n",
       "      <th>PlayID</th>\n",
       "    </tr>\n",
       "  </thead>\n",
       "  <tbody>\n",
       "    <tr>\n",
       "      <th>0</th>\n",
       "      <td>2014113007</td>\n",
       "      <td>2014-11-30</td>\n",
       "      <td>4</td>\n",
       "      <td>2</td>\n",
       "      <td>55</td>\n",
       "      <td>LA</td>\n",
       "      <td>LV</td>\n",
       "      <td>2</td>\n",
       "      <td>3</td>\n",
       "      <td>50</td>\n",
       "      <td>...</td>\n",
       "      <td>50</td>\n",
       "      <td>OPP</td>\n",
       "      <td>0</td>\n",
       "      <td>NaN</td>\n",
       "      <td>0</td>\n",
       "      <td>NaN</td>\n",
       "      <td>0</td>\n",
       "      <td>1</td>\n",
       "      <td>120350</td>\n",
       "      <td>101</td>\n",
       "    </tr>\n",
       "    <tr>\n",
       "      <th>1</th>\n",
       "      <td>2014113007</td>\n",
       "      <td>2014-11-30</td>\n",
       "      <td>4</td>\n",
       "      <td>3</td>\n",
       "      <td>39</td>\n",
       "      <td>LA</td>\n",
       "      <td>LV</td>\n",
       "      <td>1</td>\n",
       "      <td>10</td>\n",
       "      <td>43</td>\n",
       "      <td>...</td>\n",
       "      <td>43</td>\n",
       "      <td>OWN</td>\n",
       "      <td>0</td>\n",
       "      <td>NaN</td>\n",
       "      <td>0</td>\n",
       "      <td>NaN</td>\n",
       "      <td>0</td>\n",
       "      <td>1</td>\n",
       "      <td>111043</td>\n",
       "      <td>101</td>\n",
       "    </tr>\n",
       "    <tr>\n",
       "      <th>2</th>\n",
       "      <td>2014113007</td>\n",
       "      <td>2014-11-30</td>\n",
       "      <td>4</td>\n",
       "      <td>8</td>\n",
       "      <td>8</td>\n",
       "      <td>LA</td>\n",
       "      <td>LV</td>\n",
       "      <td>3</td>\n",
       "      <td>11</td>\n",
       "      <td>35</td>\n",
       "      <td>...</td>\n",
       "      <td>35</td>\n",
       "      <td>OWN</td>\n",
       "      <td>0</td>\n",
       "      <td>NaN</td>\n",
       "      <td>0</td>\n",
       "      <td>NaN</td>\n",
       "      <td>0</td>\n",
       "      <td>1</td>\n",
       "      <td>131135</td>\n",
       "      <td>101</td>\n",
       "    </tr>\n",
       "    <tr>\n",
       "      <th>3</th>\n",
       "      <td>2014113007</td>\n",
       "      <td>2014-11-30</td>\n",
       "      <td>4</td>\n",
       "      <td>8</td>\n",
       "      <td>50</td>\n",
       "      <td>LA</td>\n",
       "      <td>LV</td>\n",
       "      <td>2</td>\n",
       "      <td>10</td>\n",
       "      <td>36</td>\n",
       "      <td>...</td>\n",
       "      <td>36</td>\n",
       "      <td>OWN</td>\n",
       "      <td>0</td>\n",
       "      <td>NaN</td>\n",
       "      <td>0</td>\n",
       "      <td>NaN</td>\n",
       "      <td>0</td>\n",
       "      <td>1</td>\n",
       "      <td>121036</td>\n",
       "      <td>102</td>\n",
       "    </tr>\n",
       "    <tr>\n",
       "      <th>4</th>\n",
       "      <td>2014113007</td>\n",
       "      <td>2014-11-30</td>\n",
       "      <td>4</td>\n",
       "      <td>9</td>\n",
       "      <td>30</td>\n",
       "      <td>LA</td>\n",
       "      <td>LV</td>\n",
       "      <td>1</td>\n",
       "      <td>10</td>\n",
       "      <td>36</td>\n",
       "      <td>...</td>\n",
       "      <td>36</td>\n",
       "      <td>OWN</td>\n",
       "      <td>0</td>\n",
       "      <td>NaN</td>\n",
       "      <td>0</td>\n",
       "      <td>NaN</td>\n",
       "      <td>0</td>\n",
       "      <td>1</td>\n",
       "      <td>111036</td>\n",
       "      <td>102</td>\n",
       "    </tr>\n",
       "  </tbody>\n",
       "</table>\n",
       "<p>5 rows × 48 columns</p>\n",
       "</div>"
      ],
      "text/plain": [
       "       GameId    GameDate  Quarter  Minute  Second OffenseTeam DefenseTeam  \\\n",
       "0  2014113007  2014-11-30        4       2      55          LA          LV   \n",
       "1  2014113007  2014-11-30        4       3      39          LA          LV   \n",
       "2  2014113007  2014-11-30        4       8       8          LA          LV   \n",
       "3  2014113007  2014-11-30        4       8      50          LA          LV   \n",
       "4  2014113007  2014-11-30        4       9      30          LA          LV   \n",
       "\n",
       "   Down  ToGo  YardLine  ...  YardLineFixed  YardLineDirection  \\\n",
       "0     2     3        50  ...             50                OPP   \n",
       "1     1    10        43  ...             43                OWN   \n",
       "2     3    11        35  ...             35                OWN   \n",
       "3     2    10        36  ...             36                OWN   \n",
       "4     1    10        36  ...             36                OWN   \n",
       "\n",
       "   IsPenaltyAccepted  PenaltyTeam IsNoPlay  PenaltyType  PenaltyYards  TeamID  \\\n",
       "0                  0          NaN        0          NaN             0       1   \n",
       "1                  0          NaN        0          NaN             0       1   \n",
       "2                  0          NaN        0          NaN             0       1   \n",
       "3                  0          NaN        0          NaN             0       1   \n",
       "4                  0          NaN        0          NaN             0       1   \n",
       "\n",
       "    SitID  PlayID  \n",
       "0  120350     101  \n",
       "1  111043     101  \n",
       "2  131135     101  \n",
       "3  121036     102  \n",
       "4  111036     102  \n",
       "\n",
       "[5 rows x 48 columns]"
      ]
     },
     "execution_count": 86,
     "metadata": {},
     "output_type": "execute_result"
    }
   ],
   "source": [
    "filtered_data.head()"
   ]
  },
  {
   "cell_type": "code",
   "execution_count": 87,
   "metadata": {},
   "outputs": [],
   "source": [
    "# Specify the file path for the CSV file\n",
    "csv_file_path = 'pbp.csv'\n",
    "# Export the DataFrame to a CSV file, overriding the existing file if it exists\n",
    "filtered_data.to_csv(csv_file_path, index=False, mode='w')"
   ]
  }
 ],
 "metadata": {
  "kernelspec": {
   "display_name": "Python 3",
   "language": "python",
   "name": "python3"
  },
  "language_info": {
   "codemirror_mode": {
    "name": "ipython",
    "version": 3
   },
   "file_extension": ".py",
   "mimetype": "text/x-python",
   "name": "python",
   "nbconvert_exporter": "python",
   "pygments_lexer": "ipython3",
   "version": "3.10.14"
  }
 },
 "nbformat": 4,
 "nbformat_minor": 2
}
