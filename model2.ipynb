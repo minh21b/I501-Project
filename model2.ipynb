{
 "cells": [
  {
   "cell_type": "code",
   "execution_count": 15,
   "metadata": {},
   "outputs": [],
   "source": [
    "import os\n",
    "import pickle\n",
    "from utils.b2 import B2\n",
    "from utils.modeling import *\n",
    "import streamlit as st\n",
    "from dotenv import load_dotenv\n",
    "import numpy as np\n",
    "# from implicit.als import AlternatingLeastSquares\n",
    "# from sklearn.metrics import mean_squared_error\n",
    "# # from scipy.sparse import coo_matrix\n",
    "# # import category_encoders as ce\n",
    "import pandas as pd\n",
    "#import pymc as pm\n",
    "# from sklearn.metrics import accuracy_score, f1_score, confusion_matrix, balanced_accuracy_score\n",
    "# from sklearn.model_selection import train_test_split\n",
    "# from sklearn.ensemble import RandomForestClassifier\n",
    "from sklearn.ensemble import RandomForestRegressor"
   ]
  },
  {
   "cell_type": "code",
   "execution_count": 16,
   "metadata": {},
   "outputs": [],
   "source": [
    "# ------------------------------------------------------\n",
    "#                      APP CONSTANTS\n",
    "# ------------------------------------------------------\n",
    "REMOTE_DATA = 'pbp.csv'"
   ]
  },
  {
   "cell_type": "code",
   "execution_count": 17,
   "metadata": {},
   "outputs": [
    {
     "data": {
      "text/plain": [
       "True"
      ]
     },
     "execution_count": 17,
     "metadata": {},
     "output_type": "execute_result"
    }
   ],
   "source": [
    "# ------------------------------------------------------\n",
    "#                        CONFIG\n",
    "# ------------------------------------------------------\n",
    "load_dotenv()"
   ]
  },
  {
   "cell_type": "code",
   "execution_count": 18,
   "metadata": {},
   "outputs": [],
   "source": [
    "# load Backblaze connection\n",
    "b2 = B2(endpoint=os.environ['B2_ENDPOINT'],\n",
    "        key_id=os.environ['B2_KEYID'],\n",
    "        secret_key=os.environ['B2_APPKEY'])"
   ]
  },
  {
   "cell_type": "code",
   "execution_count": 19,
   "metadata": {},
   "outputs": [
    {
     "name": "stderr",
     "output_type": "stream",
     "text": [
      "2024-04-22 23:38:27.012 No runtime found, using MemoryCacheStorageManager\n"
     ]
    }
   ],
   "source": [
    "# ------------------------------------------------------\n",
    "#                        CACHING\n",
    "# ------------------------------------------------------\n",
    "@st.cache_data\n",
    "def get_data():\n",
    "    # collect data frame of reviews and their sentiment\n",
    "    b2.set_bucket(os.environ['B2_BUCKETNAME'])\n",
    "    df_pbp = b2.get_df(REMOTE_DATA)\n",
    "\n",
    "    return df_pbp"
   ]
  },
  {
   "cell_type": "code",
   "execution_count": 20,
   "metadata": {},
   "outputs": [],
   "source": [
    "data = get_data()"
   ]
  },
  {
   "cell_type": "code",
   "execution_count": 21,
   "metadata": {},
   "outputs": [
    {
     "name": "stderr",
     "output_type": "stream",
     "text": [
      "2024-04-22 23:38:29.507 No runtime found, using MemoryCacheStorageManager\n"
     ]
    }
   ],
   "source": [
    "@st.cache_data\n",
    "def prep_data(data):\n",
    "    rush_data = data[data['IsRush'] == 1]\n",
    "    pass_data = data[data['IsPass'] == 1]\n",
    "    # Train pass play model\n",
    "    X_pass = pass_data[['SitID', 'PlayID']]\n",
    "    y_pass = pass_data['Yards']\n",
    "    # Train rush play model\n",
    "    X_rush = rush_data[['SitID', 'PlayID']]\n",
    "    y_rush = rush_data['Yards']\n",
    "    return X_pass, y_pass, X_rush, y_rush, rush_data, pass_data"
   ]
  },
  {
   "cell_type": "code",
   "execution_count": 22,
   "metadata": {},
   "outputs": [],
   "source": [
    "X_pass, y_pass, X_rush, y_rush, rush_data, pass_data = prep_data(data)"
   ]
  },
  {
   "cell_type": "code",
   "execution_count": 23,
   "metadata": {},
   "outputs": [
    {
     "name": "stderr",
     "output_type": "stream",
     "text": [
      "2024-04-22 23:38:29.645 No runtime found, using MemoryCacheStorageManager\n"
     ]
    }
   ],
   "source": [
    "@st.cache_data\n",
    "def get_model(X_pass, y_pass, X_rush, y_rush, rush_data, pass_data):\n",
    "    pass_regressor = RandomForestRegressor(n_estimators=100, random_state=42)\n",
    "    pass_regressor.fit(X_pass, y_pass)\n",
    "    rush_regressor = RandomForestRegressor(n_estimators=100, random_state=42)\n",
    "    rush_regressor.fit(X_rush, y_rush)\n",
    "    rush_data.loc[:, 'Predicted Yards'] = rush_regressor.predict(X_rush)\n",
    "    best_rush_plays = rush_data.sort_values(by='Predicted Yards', ascending=False)\n",
    "    pass_data.loc[:, 'Predicted Yards'] = pass_regressor.predict(X_pass)\n",
    "    best_pass_plays = pass_data.sort_values(by='Predicted Yards', ascending=False)\n",
    "    return best_rush_plays, best_pass_plays"
   ]
  },
  {
   "cell_type": "code",
   "execution_count": 24,
   "metadata": {},
   "outputs": [
    {
     "name": "stderr",
     "output_type": "stream",
     "text": [
      "C:\\Users\\Minh\\AppData\\Local\\Temp\\ipykernel_8616\\2060931429.py:7: SettingWithCopyWarning: \n",
      "A value is trying to be set on a copy of a slice from a DataFrame.\n",
      "Try using .loc[row_indexer,col_indexer] = value instead\n",
      "\n",
      "See the caveats in the documentation: https://pandas.pydata.org/pandas-docs/stable/user_guide/indexing.html#returning-a-view-versus-a-copy\n",
      "  rush_data.loc[:, 'Predicted Yards'] = rush_regressor.predict(X_rush)\n",
      "C:\\Users\\Minh\\AppData\\Local\\Temp\\ipykernel_8616\\2060931429.py:9: SettingWithCopyWarning: \n",
      "A value is trying to be set on a copy of a slice from a DataFrame.\n",
      "Try using .loc[row_indexer,col_indexer] = value instead\n",
      "\n",
      "See the caveats in the documentation: https://pandas.pydata.org/pandas-docs/stable/user_guide/indexing.html#returning-a-view-versus-a-copy\n",
      "  pass_data.loc[:, 'Predicted Yards'] = pass_regressor.predict(X_pass)\n"
     ]
    }
   ],
   "source": [
    "best_rush_plays, best_pass_plays = get_model(X_pass, y_pass, X_rush, y_rush, rush_data, pass_data)"
   ]
  },
  {
   "cell_type": "code",
   "execution_count": 25,
   "metadata": {},
   "outputs": [
    {
     "name": "stderr",
     "output_type": "stream",
     "text": [
      "2024-04-22 23:38:42.035 No runtime found, using MemoryCacheStorageManager\n"
     ]
    }
   ],
   "source": [
    "@st.cache_data\n",
    "def getPlay(team, down, distance, yardline):\n",
    "    teamId = data.loc[data['OffenseTeam'] == team, 'TeamID'].values[0]\n",
    "    SitId = yardline + 100 * distance + 10000 * down + 100000 * teamId\n",
    "    if SitId in best_pass_plays['SitID'].values:\n",
    "        best_passes = best_pass_plays[best_pass_plays['SitID'] == SitId]\n",
    "        average_yards = best_passes['Yards'].mean()\n",
    "        nearest_plays = best_pass_plays.iloc[(best_pass_plays['Predicted Yards'] - average_yards).abs().argsort()[:2]]\n",
    "        best_passes = best_passes.nlargest(2, 'Predicted Yards')\n",
    "        #sometimes the model doesn't recommend 2 plays, doing it this way ensures there's always at least 2 available plays\n",
    "        best_passes = pd.concat([best_passes, nearest_plays])\n",
    "        print('First Pass Choice: ', best_passes.iloc[0]['PassType'])\n",
    "        print('Predicted Gain: ', round(float(best_passes.iloc[0]['Predicted Yards'])))\n",
    "        print('Second Pass Choice: ', best_passes.iloc[1]['PassType'])\n",
    "        print('Predicted Gain: ', round(float(best_passes.iloc[1]['Predicted Yards'])))\n",
    "\n",
    "    else:\n",
    "        best_passes = best_pass_plays[best_pass_plays['TeamID'] == teamId]\n",
    "        average_yards = best_passes['Yards'].mean()\n",
    "        # Select two plays nearest to the average\n",
    "        nearest_plays = best_pass_plays.iloc[(best_pass_plays['Predicted Yards'] - average_yards).abs().argsort()[:2]]\n",
    "        print('First Pass Choice: ', nearest_plays.iloc[0]['PassType'])\n",
    "        print('Predicted Gain: ', round(float(nearest_plays.iloc[0]['Predicted Yards'])))\n",
    "        print('Second Pass Choice: ', nearest_plays.iloc[1]['PassType'])\n",
    "        print('Predicted Gain: ', round(float(nearest_plays.iloc[1]['Predicted Yards'])))\n",
    "\n",
    "\n",
    "    if SitId in best_rush_plays['SitID'].values:\n",
    "        best_rushes = best_rush_plays[best_rush_plays['SitID'] == SitId]\n",
    "        average_yards = best_rushes['Yards'].mean()\n",
    "        best_rushes = best_rushes.nlargest(2, 'Predicted Yards')\n",
    "        nearest_plays = best_rush_plays.iloc[(best_rush_plays['Predicted Yards'] - average_yards).abs().argsort()[:2]]\n",
    "        best_rushes = pd.concat([best_rushes, nearest_plays])\n",
    "        print('First Rush Choice: ', best_rushes.iloc[0]['RushDirection'])\n",
    "        print('Predicted Gain: ', round(float(best_rushes.iloc[0]['Predicted Yards'])))\n",
    "        print('Second Rush Choice: ', best_rushes.iloc[1]['RushDirection'])\n",
    "        print('Predicted Gain: ', round(float(best_rushes.iloc[1]['Predicted Yards'])))\n",
    "\n",
    "    else:\n",
    "        best_rushes = best_rush_plays[best_rush_plays['TeamID'] == teamId]\n",
    "        average_yards = best_rushes['Yards'].mean()\n",
    "        # Select two plays nearest to the average\n",
    "        nearest_plays = best_rush_plays.iloc[(best_rush_plays['Predicted Yards'] - average_yards).abs().argsort()[:2]]\n",
    "        print('First Pass Choice: ', nearest_plays.iloc[0]['RushDirection'])\n",
    "        print('Predicted Gain: ', round(float(nearest_plays.iloc[0]['Predicted Yards'])))\n",
    "        print('Second Pass Choice: ', nearest_plays.iloc[1]['RushDirection'])\n",
    "        print('Predicted Gain: ', round(float(nearest_plays.iloc[1]['Predicted Yards'])))"
   ]
  },
  {
   "cell_type": "code",
   "execution_count": 26,
   "metadata": {},
   "outputs": [
    {
     "name": "stderr",
     "output_type": "stream",
     "text": [
      "2024-04-22 23:38:42.060 No runtime found, using MemoryCacheStorageManager\n"
     ]
    },
    {
     "name": "stdout",
     "output_type": "stream",
     "text": [
      "First Pass Choice:  SHORT MIDDLE\n",
      "Predicted Gain:  6\n",
      "Second Pass Choice:  SHORT MIDDLE\n",
      "Predicted Gain:  5\n",
      "First Rush Choice:  LEFT TACKLE\n",
      "Predicted Gain:  4\n",
      "Second Rush Choice:  RIGHT GUARD\n",
      "Predicted Gain:  1\n"
     ]
    }
   ],
   "source": [
    "getPlay('NE', 1, 5, 95)"
   ]
  }
 ],
 "metadata": {
  "kernelspec": {
   "display_name": "Python 3",
   "language": "python",
   "name": "python3"
  },
  "language_info": {
   "codemirror_mode": {
    "name": "ipython",
    "version": 3
   },
   "file_extension": ".py",
   "mimetype": "text/x-python",
   "name": "python",
   "nbconvert_exporter": "python",
   "pygments_lexer": "ipython3",
   "version": "3.10.14"
  }
 },
 "nbformat": 4,
 "nbformat_minor": 2
}
