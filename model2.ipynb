{
 "cells": [
  {
   "cell_type": "code",
   "execution_count": 15,
   "metadata": {},
   "outputs": [
    {
     "ename": "ImportError",
     "evalue": "cannot import name 'SettingWithCopyWarning' from 'pandas.core.common' (c:\\Users\\Minh\\miniconda3\\envs\\i501-project\\lib\\site-packages\\pandas\\core\\common.py)",
     "output_type": "error",
     "traceback": [
      "\u001b[1;31m---------------------------------------------------------------------------\u001b[0m",
      "\u001b[1;31mImportError\u001b[0m                               Traceback (most recent call last)",
      "Cell \u001b[1;32mIn[15], line 19\u001b[0m\n\u001b[0;32m     17\u001b[0m \u001b[38;5;28;01mfrom\u001b[39;00m \u001b[38;5;21;01msklearn\u001b[39;00m\u001b[38;5;21;01m.\u001b[39;00m\u001b[38;5;21;01mensemble\u001b[39;00m \u001b[38;5;28;01mimport\u001b[39;00m RandomForestRegressor\n\u001b[0;32m     18\u001b[0m \u001b[38;5;66;03m# Importing SettingWithCopyWarning from pandas.core.common\u001b[39;00m\n\u001b[1;32m---> 19\u001b[0m \u001b[38;5;28;01mfrom\u001b[39;00m \u001b[38;5;21;01mpandas\u001b[39;00m\u001b[38;5;21;01m.\u001b[39;00m\u001b[38;5;21;01mcore\u001b[39;00m\u001b[38;5;21;01m.\u001b[39;00m\u001b[38;5;21;01mcommon\u001b[39;00m \u001b[38;5;28;01mimport\u001b[39;00m SettingWithCopyWarning\n\u001b[0;32m     20\u001b[0m \u001b[38;5;28;01mimport\u001b[39;00m \u001b[38;5;21;01mwarnings\u001b[39;00m\n\u001b[0;32m     21\u001b[0m warnings\u001b[38;5;241m.\u001b[39mfilterwarnings(\u001b[38;5;124m'\u001b[39m\u001b[38;5;124mignore\u001b[39m\u001b[38;5;124m'\u001b[39m, category\u001b[38;5;241m=\u001b[39mSettingWithCopyWarning)\n",
      "\u001b[1;31mImportError\u001b[0m: cannot import name 'SettingWithCopyWarning' from 'pandas.core.common' (c:\\Users\\Minh\\miniconda3\\envs\\i501-project\\lib\\site-packages\\pandas\\core\\common.py)"
     ]
    }
   ],
   "source": [
    "import os\n",
    "import pickle\n",
    "from utils.b2 import B2\n",
    "from utils.modeling import *\n",
    "import streamlit as st\n",
    "from dotenv import load_dotenv\n",
    "import numpy as np\n",
    "# from implicit.als import AlternatingLeastSquares\n",
    "# from sklearn.metrics import mean_squared_error\n",
    "# # from scipy.sparse import coo_matrix\n",
    "# # import category_encoders as ce\n",
    "# import pandas as pd\n",
    "#import pymc as pm\n",
    "# from sklearn.metrics import accuracy_score, f1_score, confusion_matrix, balanced_accuracy_score\n",
    "# from sklearn.model_selection import train_test_split\n",
    "# from sklearn.ensemble import RandomForestClassifier\n",
    "from sklearn.ensemble import RandomForestRegressor"
   ]
  },
  {
   "cell_type": "code",
   "execution_count": null,
   "metadata": {},
   "outputs": [],
   "source": [
    "# ------------------------------------------------------\n",
    "#                      APP CONSTANTS\n",
    "# ------------------------------------------------------\n",
    "REMOTE_DATA = 'pbp.csv'"
   ]
  },
  {
   "cell_type": "code",
   "execution_count": null,
   "metadata": {},
   "outputs": [
    {
     "data": {
      "text/plain": [
       "True"
      ]
     },
     "execution_count": 3,
     "metadata": {},
     "output_type": "execute_result"
    }
   ],
   "source": [
    "# ------------------------------------------------------\n",
    "#                        CONFIG\n",
    "# ------------------------------------------------------\n",
    "load_dotenv()"
   ]
  },
  {
   "cell_type": "code",
   "execution_count": null,
   "metadata": {},
   "outputs": [],
   "source": [
    "# load Backblaze connection\n",
    "b2 = B2(endpoint=os.environ['B2_ENDPOINT'],\n",
    "        key_id=os.environ['B2_KEYID'],\n",
    "        secret_key=os.environ['B2_APPKEY'])"
   ]
  },
  {
   "cell_type": "code",
   "execution_count": null,
   "metadata": {},
   "outputs": [
    {
     "name": "stderr",
     "output_type": "stream",
     "text": [
      "2024-04-10 14:42:05.399 WARNING streamlit.runtime.caching.cache_data_api: No runtime found, using MemoryCacheStorageManager\n"
     ]
    }
   ],
   "source": [
    "# ------------------------------------------------------\n",
    "#                        CACHING\n",
    "# ------------------------------------------------------\n",
    "@st.cache_data\n",
    "def get_data():\n",
    "    # collect data frame of reviews and their sentiment\n",
    "    b2.set_bucket(os.environ['B2_BUCKETNAME'])\n",
    "    df_pbp = b2.get_df(REMOTE_DATA)\n",
    "\n",
    "    return df_pbp"
   ]
  },
  {
   "cell_type": "code",
   "execution_count": null,
   "metadata": {},
   "outputs": [
    {
     "name": "stderr",
     "output_type": "stream",
     "text": [
      "2024-04-10 14:42:05.777 \n",
      "  \u001b[33m\u001b[1mWarning:\u001b[0m to view this Streamlit app on a browser, run it with the following\n",
      "  command:\n",
      "\n",
      "    streamlit run c:\\Users\\Minh\\miniconda3\\envs\\i501-project\\lib\\site-packages\\ipykernel_launcher.py [ARGUMENTS]\n",
      "2024-04-10 14:42:05.779 No runtime found, using MemoryCacheStorageManager\n"
     ]
    }
   ],
   "source": [
    "data = get_data()"
   ]
  },
  {
   "cell_type": "code",
   "execution_count": null,
   "metadata": {},
   "outputs": [
    {
     "name": "stderr",
     "output_type": "stream",
     "text": [
      "2024-04-10 14:42:08.564 No runtime found, using MemoryCacheStorageManager\n"
     ]
    }
   ],
   "source": [
    "@st.cache_data\n",
    "def prep_data(data):\n",
    "    rush_data = data[data['IsRush'] == 1]\n",
    "    pass_data = data[data['IsPass'] == 1]\n",
    "    # Train pass play model\n",
    "    X_pass = pass_data[['SitID', 'PlayID']]\n",
    "    y_pass = pass_data['Yards']\n",
    "    # Train rush play model\n",
    "    X_rush = rush_data[['SitID', 'PlayID']]\n",
    "    y_rush = rush_data['Yards']\n",
    "    return X_pass, y_pass, X_rush, y_rush, rush_data, pass_data"
   ]
  },
  {
   "cell_type": "code",
   "execution_count": null,
   "metadata": {},
   "outputs": [
    {
     "name": "stderr",
     "output_type": "stream",
     "text": [
      "2024-04-10 14:42:08.581 No runtime found, using MemoryCacheStorageManager\n"
     ]
    }
   ],
   "source": [
    "X_pass, y_pass, X_rush, y_rush, rush_data, pass_data = prep_data(data)"
   ]
  },
  {
   "cell_type": "code",
   "execution_count": null,
   "metadata": {},
   "outputs": [
    {
     "name": "stderr",
     "output_type": "stream",
     "text": [
      "2024-04-10 14:42:08.688 No runtime found, using MemoryCacheStorageManager\n"
     ]
    }
   ],
   "source": [
    "@st.cache_data\n",
    "def get_model(X_pass, y_pass, X_rush, y_rush, rush_data, pass_data):\n",
    "    pass_regressor = RandomForestRegressor(n_estimators=100, random_state=42)\n",
    "    pass_regressor.fit(X_pass, y_pass)\n",
    "    rush_regressor = RandomForestRegressor(n_estimators=100, random_state=42)\n",
    "    rush_regressor.fit(X_rush, y_rush)\n",
    "    rush_data.loc[:, 'Predicted Yards'] = rush_regressor.predict(X_rush)\n",
    "    best_rush_plays = rush_data.sort_values(by='Predicted Yards', ascending=False)\n",
    "    pass_data.loc[:, 'Predicted Yards'] = pass_regressor.predict(X_pass)\n",
    "    best_pass_plays = pass_data.sort_values(by='Predicted Yards', ascending=False)\n",
    "    return best_rush_plays, best_pass_plays"
   ]
  },
  {
   "cell_type": "code",
   "execution_count": null,
   "metadata": {},
   "outputs": [
    {
     "name": "stderr",
     "output_type": "stream",
     "text": [
      "2024-04-10 14:42:08.704 No runtime found, using MemoryCacheStorageManager\n",
      "C:\\Users\\Minh\\AppData\\Local\\Temp\\ipykernel_18364\\2060931429.py:7: SettingWithCopyWarning: \n",
      "A value is trying to be set on a copy of a slice from a DataFrame.\n",
      "Try using .loc[row_indexer,col_indexer] = value instead\n",
      "\n",
      "See the caveats in the documentation: https://pandas.pydata.org/pandas-docs/stable/user_guide/indexing.html#returning-a-view-versus-a-copy\n",
      "  rush_data.loc[:, 'Predicted Yards'] = rush_regressor.predict(X_rush)\n",
      "C:\\Users\\Minh\\AppData\\Local\\Temp\\ipykernel_18364\\2060931429.py:9: SettingWithCopyWarning: \n",
      "A value is trying to be set on a copy of a slice from a DataFrame.\n",
      "Try using .loc[row_indexer,col_indexer] = value instead\n",
      "\n",
      "See the caveats in the documentation: https://pandas.pydata.org/pandas-docs/stable/user_guide/indexing.html#returning-a-view-versus-a-copy\n",
      "  pass_data.loc[:, 'Predicted Yards'] = pass_regressor.predict(X_pass)\n"
     ]
    }
   ],
   "source": [
    "best_rush_plays, best_pass_plays = get_model(X_pass, y_pass, X_rush, y_rush, rush_data, pass_data)"
   ]
  },
  {
   "cell_type": "code",
   "execution_count": null,
   "metadata": {},
   "outputs": [
    {
     "name": "stderr",
     "output_type": "stream",
     "text": [
      "2024-04-10 14:42:20.781 No runtime found, using MemoryCacheStorageManager\n"
     ]
    }
   ],
   "source": [
    "@st.cache_data\n",
    "def getPlay(team, down, distance, yardline):\n",
    "    teamId = data.loc[data['OffenseTeam'] == team, 'TeamID'].values[0]\n",
    "    SitId = yardline + 100 * distance + 10000 * down + 100000 * teamId\n",
    "    SitId = 1711083\n",
    "    if SitId in best_pass_plays['SitID'].values:\n",
    "        best_passes = best_pass_plays[best_pass_plays['SitID'] == SitId]\n",
    "        best_passes = best_passes.nlargest(2, 'Predicted Yards')\n",
    "        print('First Pass Choice: ', best_passes.iloc[0]['PassType'])\n",
    "        print('Predicted Gain: ', round(float(best_passes.iloc[0]['Predicted Yards'])))\n",
    "        print('Second Pass Choice: ', best_passes.iloc[1]['PassType'])\n",
    "        print('Predicted Gain: ', round(float(best_passes.iloc[1]['Predicted Yards'])))\n",
    "\n",
    "    if SitId in best_rush_plays['SitID'].values:\n",
    "        best_rushes = best_rush_plays[best_rush_plays['SitID'] == SitId]\n",
    "        best_rushes = best_rushes.nlargest(2, 'Predicted Yards')\n",
    "        print('First Rush Choice: ', best_rushes.iloc[0]['RushDirection'])\n",
    "        print('Predicted Gain: ', round(float(best_rushes.iloc[0]['Predicted Yards'])))\n",
    "        print('Second Rush Choice: ', best_rushes.iloc[1]['RushDirection'])\n",
    "        print('Predicted Gain: ', round(float(best_rushes.iloc[1]['Predicted Yards'])))"
   ]
  },
  {
   "cell_type": "code",
   "execution_count": null,
   "metadata": {},
   "outputs": [
    {
     "name": "stderr",
     "output_type": "stream",
     "text": [
      "2024-04-10 14:42:20.798 No runtime found, using MemoryCacheStorageManager\n"
     ]
    },
    {
     "name": "stdout",
     "output_type": "stream",
     "text": [
      "First Pass Choice:  DEEP LEFT\n",
      "Predicted Gain:  76\n",
      "Second Pass Choice:  SHORT MIDDLE\n",
      "Predicted Gain:  4\n",
      "First Rush Choice:  LEFT END\n",
      "Predicted Gain:  8\n",
      "Second Rush Choice:  LEFT TACKLE\n",
      "Predicted Gain:  5\n"
     ]
    }
   ],
   "source": [
    "getPlay('NE', 1, 10, 20)"
   ]
  }
 ],
 "metadata": {
  "kernelspec": {
   "display_name": "Python 3",
   "language": "python",
   "name": "python3"
  },
  "language_info": {
   "codemirror_mode": {
    "name": "ipython",
    "version": 3
   },
   "file_extension": ".py",
   "mimetype": "text/x-python",
   "name": "python",
   "nbconvert_exporter": "python",
   "pygments_lexer": "ipython3",
   "version": "3.10.14"
  }
 },
 "nbformat": 4,
 "nbformat_minor": 2
}
