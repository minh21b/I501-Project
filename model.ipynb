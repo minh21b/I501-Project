{
 "cells": [
  {
   "cell_type": "code",
   "execution_count": 3,
   "metadata": {},
   "outputs": [
    {
     "name": "stderr",
     "output_type": "stream",
     "text": [
      "c:\\Users\\Minh\\miniconda3\\envs\\i501-project\\lib\\site-packages\\tqdm\\auto.py:21: TqdmWarning: IProgress not found. Please update jupyter and ipywidgets. See https://ipywidgets.readthedocs.io/en/stable/user_install.html\n",
      "  from .autonotebook import tqdm as notebook_tqdm\n"
     ]
    }
   ],
   "source": [
    "import os\n",
    "import pickle\n",
    "from utils.b2 import B2\n",
    "from utils.modeling import *\n",
    "import streamlit as st\n",
    "from dotenv import load_dotenv\n",
    "import numpy as np\n",
    "from implicit.als import AlternatingLeastSquares\n",
    "from sklearn.metrics import mean_squared_error\n",
    "from scipy.sparse import coo_matrix\n"
   ]
  },
  {
   "cell_type": "code",
   "execution_count": 4,
   "metadata": {},
   "outputs": [],
   "source": [
    "# ------------------------------------------------------\n",
    "#                      APP CONSTANTS\n",
    "# ------------------------------------------------------\n",
    "REMOTE_DATA = 'pbp.csv'"
   ]
  },
  {
   "cell_type": "code",
   "execution_count": 5,
   "metadata": {},
   "outputs": [
    {
     "data": {
      "text/plain": [
       "True"
      ]
     },
     "execution_count": 5,
     "metadata": {},
     "output_type": "execute_result"
    }
   ],
   "source": [
    "# ------------------------------------------------------\n",
    "#                        CONFIG\n",
    "# ------------------------------------------------------\n",
    "load_dotenv()"
   ]
  },
  {
   "cell_type": "code",
   "execution_count": 6,
   "metadata": {},
   "outputs": [],
   "source": [
    "# load Backblaze connection\n",
    "b2 = B2(endpoint=os.environ['B2_ENDPOINT'],\n",
    "        key_id=os.environ['B2_KEYID'],\n",
    "        secret_key=os.environ['B2_APPKEY'])"
   ]
  },
  {
   "cell_type": "code",
   "execution_count": 7,
   "metadata": {},
   "outputs": [
    {
     "name": "stderr",
     "output_type": "stream",
     "text": [
      "2024-04-08 18:29:00.106 WARNING streamlit.runtime.caching.cache_data_api: No runtime found, using MemoryCacheStorageManager\n"
     ]
    }
   ],
   "source": [
    "# ------------------------------------------------------\n",
    "#                        CACHING\n",
    "# ------------------------------------------------------\n",
    "@st.cache_data\n",
    "def get_data():\n",
    "    # collect data frame of reviews and their sentiment\n",
    "    b2.set_bucket(os.environ['B2_BUCKETNAME'])\n",
    "    df_pbp = b2.get_df(REMOTE_DATA)\n",
    "\n",
    "    return df_pbp"
   ]
  },
  {
   "cell_type": "code",
   "execution_count": 8,
   "metadata": {},
   "outputs": [
    {
     "name": "stderr",
     "output_type": "stream",
     "text": [
      "2024-04-08 18:29:00.331 \n",
      "  \u001b[33m\u001b[1mWarning:\u001b[0m to view this Streamlit app on a browser, run it with the following\n",
      "  command:\n",
      "\n",
      "    streamlit run c:\\Users\\Minh\\miniconda3\\envs\\i501-project\\lib\\site-packages\\ipykernel_launcher.py [ARGUMENTS]\n",
      "2024-04-08 18:29:00.332 No runtime found, using MemoryCacheStorageManager\n"
     ]
    },
    {
     "data": {
      "text/html": [
       "<div>\n",
       "<style scoped>\n",
       "    .dataframe tbody tr th:only-of-type {\n",
       "        vertical-align: middle;\n",
       "    }\n",
       "\n",
       "    .dataframe tbody tr th {\n",
       "        vertical-align: top;\n",
       "    }\n",
       "\n",
       "    .dataframe thead th {\n",
       "        text-align: right;\n",
       "    }\n",
       "</style>\n",
       "<table border=\"1\" class=\"dataframe\">\n",
       "  <thead>\n",
       "    <tr style=\"text-align: right;\">\n",
       "      <th></th>\n",
       "      <th>GameId</th>\n",
       "      <th>GameDate</th>\n",
       "      <th>Quarter</th>\n",
       "      <th>Minute</th>\n",
       "      <th>Second</th>\n",
       "      <th>OffenseTeam</th>\n",
       "      <th>DefenseTeam</th>\n",
       "      <th>Down</th>\n",
       "      <th>ToGo</th>\n",
       "      <th>YardLine</th>\n",
       "      <th>...</th>\n",
       "      <th>YardLineFixed</th>\n",
       "      <th>YardLineDirection</th>\n",
       "      <th>IsPenaltyAccepted</th>\n",
       "      <th>PenaltyTeam</th>\n",
       "      <th>IsNoPlay</th>\n",
       "      <th>PenaltyType</th>\n",
       "      <th>PenaltyYards</th>\n",
       "      <th>TeamID</th>\n",
       "      <th>SitID</th>\n",
       "      <th>PlayID</th>\n",
       "    </tr>\n",
       "  </thead>\n",
       "  <tbody>\n",
       "    <tr>\n",
       "      <th>0</th>\n",
       "      <td>2014113007</td>\n",
       "      <td>2014-11-30</td>\n",
       "      <td>4</td>\n",
       "      <td>2</td>\n",
       "      <td>55</td>\n",
       "      <td>LA</td>\n",
       "      <td>LV</td>\n",
       "      <td>2</td>\n",
       "      <td>3</td>\n",
       "      <td>50</td>\n",
       "      <td>...</td>\n",
       "      <td>50</td>\n",
       "      <td>OPP</td>\n",
       "      <td>0</td>\n",
       "      <td>NaN</td>\n",
       "      <td>0</td>\n",
       "      <td>NaN</td>\n",
       "      <td>0</td>\n",
       "      <td>1</td>\n",
       "      <td>120350</td>\n",
       "      <td>101</td>\n",
       "    </tr>\n",
       "    <tr>\n",
       "      <th>1</th>\n",
       "      <td>2014113007</td>\n",
       "      <td>2014-11-30</td>\n",
       "      <td>4</td>\n",
       "      <td>3</td>\n",
       "      <td>39</td>\n",
       "      <td>LA</td>\n",
       "      <td>LV</td>\n",
       "      <td>1</td>\n",
       "      <td>10</td>\n",
       "      <td>43</td>\n",
       "      <td>...</td>\n",
       "      <td>43</td>\n",
       "      <td>OWN</td>\n",
       "      <td>0</td>\n",
       "      <td>NaN</td>\n",
       "      <td>0</td>\n",
       "      <td>NaN</td>\n",
       "      <td>0</td>\n",
       "      <td>1</td>\n",
       "      <td>111043</td>\n",
       "      <td>101</td>\n",
       "    </tr>\n",
       "    <tr>\n",
       "      <th>2</th>\n",
       "      <td>2014113007</td>\n",
       "      <td>2014-11-30</td>\n",
       "      <td>4</td>\n",
       "      <td>8</td>\n",
       "      <td>8</td>\n",
       "      <td>LA</td>\n",
       "      <td>LV</td>\n",
       "      <td>3</td>\n",
       "      <td>11</td>\n",
       "      <td>35</td>\n",
       "      <td>...</td>\n",
       "      <td>35</td>\n",
       "      <td>OWN</td>\n",
       "      <td>0</td>\n",
       "      <td>NaN</td>\n",
       "      <td>0</td>\n",
       "      <td>NaN</td>\n",
       "      <td>0</td>\n",
       "      <td>1</td>\n",
       "      <td>131135</td>\n",
       "      <td>101</td>\n",
       "    </tr>\n",
       "    <tr>\n",
       "      <th>3</th>\n",
       "      <td>2014113007</td>\n",
       "      <td>2014-11-30</td>\n",
       "      <td>4</td>\n",
       "      <td>8</td>\n",
       "      <td>50</td>\n",
       "      <td>LA</td>\n",
       "      <td>LV</td>\n",
       "      <td>2</td>\n",
       "      <td>10</td>\n",
       "      <td>36</td>\n",
       "      <td>...</td>\n",
       "      <td>36</td>\n",
       "      <td>OWN</td>\n",
       "      <td>0</td>\n",
       "      <td>NaN</td>\n",
       "      <td>0</td>\n",
       "      <td>NaN</td>\n",
       "      <td>0</td>\n",
       "      <td>1</td>\n",
       "      <td>121036</td>\n",
       "      <td>102</td>\n",
       "    </tr>\n",
       "    <tr>\n",
       "      <th>4</th>\n",
       "      <td>2014113007</td>\n",
       "      <td>2014-11-30</td>\n",
       "      <td>4</td>\n",
       "      <td>9</td>\n",
       "      <td>30</td>\n",
       "      <td>LA</td>\n",
       "      <td>LV</td>\n",
       "      <td>1</td>\n",
       "      <td>10</td>\n",
       "      <td>36</td>\n",
       "      <td>...</td>\n",
       "      <td>36</td>\n",
       "      <td>OWN</td>\n",
       "      <td>0</td>\n",
       "      <td>NaN</td>\n",
       "      <td>0</td>\n",
       "      <td>NaN</td>\n",
       "      <td>0</td>\n",
       "      <td>1</td>\n",
       "      <td>111036</td>\n",
       "      <td>102</td>\n",
       "    </tr>\n",
       "    <tr>\n",
       "      <th>...</th>\n",
       "      <td>...</td>\n",
       "      <td>...</td>\n",
       "      <td>...</td>\n",
       "      <td>...</td>\n",
       "      <td>...</td>\n",
       "      <td>...</td>\n",
       "      <td>...</td>\n",
       "      <td>...</td>\n",
       "      <td>...</td>\n",
       "      <td>...</td>\n",
       "      <td>...</td>\n",
       "      <td>...</td>\n",
       "      <td>...</td>\n",
       "      <td>...</td>\n",
       "      <td>...</td>\n",
       "      <td>...</td>\n",
       "      <td>...</td>\n",
       "      <td>...</td>\n",
       "      <td>...</td>\n",
       "      <td>...</td>\n",
       "      <td>...</td>\n",
       "    </tr>\n",
       "    <tr>\n",
       "      <th>74383</th>\n",
       "      <td>2017010114</td>\n",
       "      <td>2017-01-01</td>\n",
       "      <td>2</td>\n",
       "      <td>0</td>\n",
       "      <td>17</td>\n",
       "      <td>KC</td>\n",
       "      <td>SD</td>\n",
       "      <td>1</td>\n",
       "      <td>10</td>\n",
       "      <td>63</td>\n",
       "      <td>...</td>\n",
       "      <td>37</td>\n",
       "      <td>OPP</td>\n",
       "      <td>0</td>\n",
       "      <td>NaN</td>\n",
       "      <td>0</td>\n",
       "      <td>NaN</td>\n",
       "      <td>0</td>\n",
       "      <td>4</td>\n",
       "      <td>411063</td>\n",
       "      <td>101</td>\n",
       "    </tr>\n",
       "    <tr>\n",
       "      <th>74384</th>\n",
       "      <td>2017010114</td>\n",
       "      <td>2017-01-01</td>\n",
       "      <td>3</td>\n",
       "      <td>8</td>\n",
       "      <td>22</td>\n",
       "      <td>KC</td>\n",
       "      <td>SD</td>\n",
       "      <td>1</td>\n",
       "      <td>10</td>\n",
       "      <td>74</td>\n",
       "      <td>...</td>\n",
       "      <td>26</td>\n",
       "      <td>OPP</td>\n",
       "      <td>0</td>\n",
       "      <td>NaN</td>\n",
       "      <td>0</td>\n",
       "      <td>NaN</td>\n",
       "      <td>0</td>\n",
       "      <td>4</td>\n",
       "      <td>411074</td>\n",
       "      <td>104</td>\n",
       "    </tr>\n",
       "    <tr>\n",
       "      <th>74385</th>\n",
       "      <td>2017010114</td>\n",
       "      <td>2017-01-01</td>\n",
       "      <td>3</td>\n",
       "      <td>7</td>\n",
       "      <td>1</td>\n",
       "      <td>KC</td>\n",
       "      <td>SD</td>\n",
       "      <td>3</td>\n",
       "      <td>5</td>\n",
       "      <td>79</td>\n",
       "      <td>...</td>\n",
       "      <td>21</td>\n",
       "      <td>OPP</td>\n",
       "      <td>0</td>\n",
       "      <td>NaN</td>\n",
       "      <td>0</td>\n",
       "      <td>NaN</td>\n",
       "      <td>0</td>\n",
       "      <td>4</td>\n",
       "      <td>430579</td>\n",
       "      <td>202</td>\n",
       "    </tr>\n",
       "    <tr>\n",
       "      <th>74386</th>\n",
       "      <td>2017010115</td>\n",
       "      <td>2017-01-01</td>\n",
       "      <td>1</td>\n",
       "      <td>5</td>\n",
       "      <td>44</td>\n",
       "      <td>SF</td>\n",
       "      <td>SEA</td>\n",
       "      <td>2</td>\n",
       "      <td>5</td>\n",
       "      <td>72</td>\n",
       "      <td>...</td>\n",
       "      <td>28</td>\n",
       "      <td>OPP</td>\n",
       "      <td>1</td>\n",
       "      <td>SF</td>\n",
       "      <td>1</td>\n",
       "      <td>ILLEGAL SHIFT</td>\n",
       "      <td>5</td>\n",
       "      <td>8</td>\n",
       "      <td>820572</td>\n",
       "      <td>203</td>\n",
       "    </tr>\n",
       "    <tr>\n",
       "      <th>74387</th>\n",
       "      <td>2017010115</td>\n",
       "      <td>2017-01-01</td>\n",
       "      <td>2</td>\n",
       "      <td>3</td>\n",
       "      <td>3</td>\n",
       "      <td>SEA</td>\n",
       "      <td>SF</td>\n",
       "      <td>1</td>\n",
       "      <td>1</td>\n",
       "      <td>99</td>\n",
       "      <td>...</td>\n",
       "      <td>1</td>\n",
       "      <td>OPP</td>\n",
       "      <td>0</td>\n",
       "      <td>NaN</td>\n",
       "      <td>0</td>\n",
       "      <td>NaN</td>\n",
       "      <td>0</td>\n",
       "      <td>6</td>\n",
       "      <td>610199</td>\n",
       "      <td>107</td>\n",
       "    </tr>\n",
       "  </tbody>\n",
       "</table>\n",
       "<p>74388 rows × 48 columns</p>\n",
       "</div>"
      ],
      "text/plain": [
       "           GameId    GameDate  Quarter  Minute  Second OffenseTeam  \\\n",
       "0      2014113007  2014-11-30        4       2      55          LA   \n",
       "1      2014113007  2014-11-30        4       3      39          LA   \n",
       "2      2014113007  2014-11-30        4       8       8          LA   \n",
       "3      2014113007  2014-11-30        4       8      50          LA   \n",
       "4      2014113007  2014-11-30        4       9      30          LA   \n",
       "...           ...         ...      ...     ...     ...         ...   \n",
       "74383  2017010114  2017-01-01        2       0      17          KC   \n",
       "74384  2017010114  2017-01-01        3       8      22          KC   \n",
       "74385  2017010114  2017-01-01        3       7       1          KC   \n",
       "74386  2017010115  2017-01-01        1       5      44          SF   \n",
       "74387  2017010115  2017-01-01        2       3       3         SEA   \n",
       "\n",
       "      DefenseTeam  Down  ToGo  YardLine  ...  YardLineFixed  \\\n",
       "0              LV     2     3        50  ...             50   \n",
       "1              LV     1    10        43  ...             43   \n",
       "2              LV     3    11        35  ...             35   \n",
       "3              LV     2    10        36  ...             36   \n",
       "4              LV     1    10        36  ...             36   \n",
       "...           ...   ...   ...       ...  ...            ...   \n",
       "74383          SD     1    10        63  ...             37   \n",
       "74384          SD     1    10        74  ...             26   \n",
       "74385          SD     3     5        79  ...             21   \n",
       "74386         SEA     2     5        72  ...             28   \n",
       "74387          SF     1     1        99  ...              1   \n",
       "\n",
       "       YardLineDirection  IsPenaltyAccepted  PenaltyTeam IsNoPlay  \\\n",
       "0                    OPP                  0          NaN        0   \n",
       "1                    OWN                  0          NaN        0   \n",
       "2                    OWN                  0          NaN        0   \n",
       "3                    OWN                  0          NaN        0   \n",
       "4                    OWN                  0          NaN        0   \n",
       "...                  ...                ...          ...      ...   \n",
       "74383                OPP                  0          NaN        0   \n",
       "74384                OPP                  0          NaN        0   \n",
       "74385                OPP                  0          NaN        0   \n",
       "74386                OPP                  1           SF        1   \n",
       "74387                OPP                  0          NaN        0   \n",
       "\n",
       "         PenaltyType  PenaltyYards  TeamID   SitID  PlayID  \n",
       "0                NaN             0       1  120350     101  \n",
       "1                NaN             0       1  111043     101  \n",
       "2                NaN             0       1  131135     101  \n",
       "3                NaN             0       1  121036     102  \n",
       "4                NaN             0       1  111036     102  \n",
       "...              ...           ...     ...     ...     ...  \n",
       "74383            NaN             0       4  411063     101  \n",
       "74384            NaN             0       4  411074     104  \n",
       "74385            NaN             0       4  430579     202  \n",
       "74386  ILLEGAL SHIFT             5       8  820572     203  \n",
       "74387            NaN             0       6  610199     107  \n",
       "\n",
       "[74388 rows x 48 columns]"
      ]
     },
     "execution_count": 8,
     "metadata": {},
     "output_type": "execute_result"
    }
   ],
   "source": [
    "data = get_data()\n",
    "data"
   ]
  },
  {
   "cell_type": "code",
   "execution_count": 9,
   "metadata": {},
   "outputs": [],
   "source": [
    "rush_plays = data[data['IsRush'] == 1]\n",
    "pass_plays = data[data['IsPass'] == 1]"
   ]
  },
  {
   "cell_type": "markdown",
   "metadata": {},
   "source": [
    "## Model for rush plays"
   ]
  },
  {
   "cell_type": "code",
   "execution_count": 10,
   "metadata": {},
   "outputs": [
    {
     "name": "stderr",
     "output_type": "stream",
     "text": [
      "c:\\Users\\Minh\\miniconda3\\envs\\i501-project\\lib\\site-packages\\implicit\\cpu\\als.py:95: RuntimeWarning: OpenBLAS is configured to use 24 threads. It is highly recommended to disable its internal threadpool by setting the environment variable 'OPENBLAS_NUM_THREADS=1' or by calling 'threadpoolctl.threadpool_limits(1, \"blas\")'. Having OpenBLAS use a threadpool can lead to severe performance issues here.\n",
      "  check_blas_config()\n",
      "100%|██████████| 5/5 [00:06<00:00,  1.33s/it]\n"
     ]
    }
   ],
   "source": [
    "# Train ALS model for rush plays\n",
    "rush_model = train_als_model(rush_plays)"
   ]
  },
  {
   "cell_type": "code",
   "execution_count": 11,
   "metadata": {},
   "outputs": [
    {
     "data": {
      "text/plain": [
       "4.832291719093181"
      ]
     },
     "execution_count": 11,
     "metadata": {},
     "output_type": "execute_result"
    }
   ],
   "source": [
    "# Calculate RMSE for rush plays\n",
    "rush_rmse = calculate_rmse(rush_model, rush_plays)\n",
    "rush_rmse"
   ]
  },
  {
   "cell_type": "markdown",
   "metadata": {},
   "source": [
    "## Model for pass plays"
   ]
  },
  {
   "cell_type": "code",
   "execution_count": 12,
   "metadata": {},
   "outputs": [
    {
     "name": "stderr",
     "output_type": "stream",
     "text": [
      "  0%|          | 0/5 [00:00<?, ?it/s]"
     ]
    },
    {
     "name": "stderr",
     "output_type": "stream",
     "text": [
      "100%|██████████| 5/5 [00:09<00:00,  1.81s/it]\n"
     ]
    }
   ],
   "source": [
    "pass_model = train_als_model(pass_plays)"
   ]
  },
  {
   "cell_type": "code",
   "execution_count": 13,
   "metadata": {},
   "outputs": [
    {
     "data": {
      "text/plain": [
       "5.9421040450859905"
      ]
     },
     "execution_count": 13,
     "metadata": {},
     "output_type": "execute_result"
    }
   ],
   "source": [
    "pass_rmse = calculate_rmse(pass_model, pass_plays)\n",
    "pass_rmse"
   ]
  },
  {
   "cell_type": "markdown",
   "metadata": {},
   "source": [
    "## Initial Recommender"
   ]
  },
  {
   "cell_type": "code",
   "execution_count": 14,
   "metadata": {},
   "outputs": [],
   "source": [
    "import pandas as pd"
   ]
  },
  {
   "cell_type": "code",
   "execution_count": 15,
   "metadata": {},
   "outputs": [],
   "source": [
    "pass_prediction = predict_ratings(pass_model)\n",
    "rush_prediction = predict_ratings(rush_model)"
   ]
  },
  {
   "cell_type": "code",
   "execution_count": 16,
   "metadata": {},
   "outputs": [
    {
     "name": "stdout",
     "output_type": "stream",
     "text": [
      "                 202           203           204           205           206  \\\n",
      "120822 -5.401438e-04  4.215945e-02  6.568472e-01  4.766227e-02  4.996412e-02   \n",
      "111582  4.035610e-11 -5.015077e-10 -3.742414e-10  1.490984e-10 -8.641438e-12   \n",
      "110496 -1.134420e-03  9.040532e-01  2.997221e-02  3.167104e-02  3.367297e-02   \n",
      "130862  1.689319e-03  5.554792e-02  5.940035e-02  1.040732e+00  9.656359e-02   \n",
      "111534 -7.212535e-05  3.321432e-02  9.810290e-01  3.152066e-02  3.387132e-02   \n",
      "\n",
      "                 207           208           209           210           201  \\\n",
      "120822  3.517948e-02  6.542810e-01  6.473297e-05 -6.245952e-04 -6.200727e-04   \n",
      "111582  8.919747e-11 -2.796830e-10  3.890623e-11  3.962992e-11  3.623631e-11   \n",
      "110496  2.418949e-02  3.100439e-02 -9.470042e-04 -1.174049e-03 -1.073631e-03   \n",
      "130862  8.576170e-02  7.129742e-02 -4.143454e-05  1.624158e-03  1.568631e-03   \n",
      "111534  2.437939e-02  3.699784e-02  4.952513e-04 -1.175781e-04 -1.156463e-04   \n",
      "\n",
      "                 211           212           213           214           215  \\\n",
      "120822  3.929399e-04 -6.927252e-04 -5.560443e-04 -5.573276e-04 -4.970934e-04   \n",
      "111582  3.858278e-11  3.765690e-11  3.593796e-11  3.963196e-11  3.619196e-11   \n",
      "110496 -9.541176e-04 -1.187272e-03 -1.066137e-03 -1.163796e-03 -1.060590e-03   \n",
      "130862  2.915896e-04  1.690493e-03  1.481464e-03  2.009323e-03  1.881396e-03   \n",
      "111534  3.143942e-04 -1.375610e-04 -9.507872e-05 -8.705910e-05 -7.937755e-05   \n",
      "\n",
      "                 216  \n",
      "120822 -6.110370e-04  \n",
      "111582  3.808832e-11  \n",
      "110496 -1.130129e-03  \n",
      "130862  1.562652e-03  \n",
      "111534 -1.206449e-04  \n"
     ]
    }
   ],
   "source": [
    "# Define row and column names\n",
    "row_names = pass_plays['SitID'].unique()\n",
    "col_names = pass_plays['PlayID'].unique()\n",
    "\n",
    "# Create DataFrame\n",
    "pass_pred_df = pd.DataFrame(pass_prediction, index=row_names, columns=col_names)\n",
    "\n",
    "# Display DataFrame\n",
    "print(pass_pred_df.head())"
   ]
  },
  {
   "cell_type": "code",
   "execution_count": 17,
   "metadata": {},
   "outputs": [
    {
     "name": "stdout",
     "output_type": "stream",
     "text": [
      "                 101           102           103           104           106  \\\n",
      "120350  1.624361e-02  2.031209e-02  2.094308e-02  7.051036e-01  2.922223e-02   \n",
      "111043  1.794264e-02  1.298140e-01  2.699988e-02  3.607343e-02  8.580015e-01   \n",
      "131135  9.621323e-01  9.929903e-03  5.541613e-02  1.197270e-02  1.022447e-02   \n",
      "121036  9.836036e-01  9.351610e-03  9.065338e-03  1.092013e-02  8.825424e-03   \n",
      "111036 -6.867229e-11  2.731634e-10 -3.199256e-11  4.119473e-10 -2.680014e-10   \n",
      "\n",
      "                 107           108  \n",
      "120350  1.794198e-02  7.605675e-01  \n",
      "111043  8.852803e-01  2.305834e-02  \n",
      "131135  5.960927e-03  9.192367e-03  \n",
      "121036  6.023289e-03  9.500869e-03  \n",
      "111036  4.547991e-10  3.443306e-11  \n"
     ]
    }
   ],
   "source": [
    "# Define row and column names\n",
    "row_names = rush_plays['SitID'].unique()\n",
    "col_names = rush_plays['PlayID'].unique()\n",
    "\n",
    "# Create DataFrame\n",
    "rush_pred_df = pd.DataFrame(rush_prediction, index=row_names, columns=col_names)\n",
    "\n",
    "# Display DataFrame\n",
    "print(rush_pred_df.head())"
   ]
  },
  {
   "cell_type": "code",
   "execution_count": 18,
   "metadata": {},
   "outputs": [
    {
     "data": {
      "text/plain": [
       "203    1.023975\n",
       "206    0.038029\n",
       "Name: 111064, dtype: float32"
      ]
     },
     "execution_count": 18,
     "metadata": {},
     "output_type": "execute_result"
    }
   ],
   "source": [
    "best_pass = pass_pred_df.loc[111064].nlargest(2)\n",
    "best_pass"
   ]
  },
  {
   "cell_type": "markdown",
   "metadata": {},
   "source": []
  },
  {
   "cell_type": "code",
   "execution_count": 19,
   "metadata": {},
   "outputs": [],
   "source": [
    "def get_play(team, down, distance, yardline, pass_pred_df, rush_pred_df, plays_df):\n",
    "    teamId = data.loc[data['OffenseTeam'] == team, 'TeamID'].values[0]\n",
    "    SitId = int(yardline + 100 * distance + 10000 * down + 100000 * teamId)\n",
    "    \n",
    "    if SitId in pass_pred_df.index:\n",
    "        best_pass = pass_pred_df.loc[SitId].nlargest(2)\n",
    "        print(\"Top Pass Choice:\", plays_df.loc[plays_df['PlayID'] == int(best_pass.index[0]), 'PassType'].values[0])\n",
    "        print(\"Predicted Gain:\", round(best_pass.iloc[0]), \"Yards\")\n",
    "        \n",
    "        print(\"Second Pass Choice:\", plays_df.loc[plays_df['PlayID'] == int(best_pass.index[1]), 'PassType'].values[0])\n",
    "        print(\"Predicted Gain:\", round(best_pass.iloc[1]), \"Yards\")\n",
    "    else:\n",
    "        best_pass = pass_pred_df.mean().nlargest(2)\n",
    "        print(\"Top Pass Choice:\", plays_df.loc[plays_df['PlayID'] == int(best_pass.index[0]), 'PassType'].values[0])\n",
    "        print(\"Predicted Gain:\", round(best_pass.iloc[0]), \"Yards\")\n",
    "        \n",
    "        print(\"Second Pass Choice:\", plays_df.loc[plays_df['PlayID'] == int(best_pass.index[1]), 'PassType'].values[0])\n",
    "        print(\"Predicted Gain:\", round(best_pass.iloc[1]), \"Yards\")\n",
    "\n",
    "    if SitId in rush_pred_df.index:\n",
    "        best_rush = rush_pred_df.loc[SitId].nlargest(2)\n",
    "        print(\"Top Run Choice:\", plays_df.loc[plays_df['PlayID'] == int(best_rush.index[0]), 'RushDirection'].values[0])\n",
    "        print(\"Predicted Gain:\", round(best_rush.iloc[0]), \"Yards\")\n",
    "        \n",
    "        print(\"Second Run Choice:\", plays_df.loc[plays_df['PlayID'] == int(best_rush.index[1]), 'RushDirection'].values[0])\n",
    "        print(\"Predicted Gain:\", round(best_rush.iloc[1]), \"Yards\")\n",
    "    else:\n",
    "        best_rush = rush_pred_df.mean().nlargest(2)\n",
    "        print(\"Top Run Choice:\", plays_df.loc[plays_df['PlayID'] == int(best_rush.index[0]), 'RushDirection'].values[0])\n",
    "        print(\"Predicted Gain:\", round(best_rush.iloc[0]), \"Yards\")\n",
    "        \n",
    "        print(\"Second Run Choice:\", plays_df.loc[plays_df['PlayID'] == int(best_rush.index[1]), 'RushDirection'].values[0])\n",
    "        print(\"Predicted Gain:\", round(best_rush.iloc[1]), \"Yards\")"
   ]
  },
  {
   "cell_type": "code",
   "execution_count": 20,
   "metadata": {},
   "outputs": [
    {
     "name": "stdout",
     "output_type": "stream",
     "text": [
      "Top Pass Choice: INTERCEPTED BY\n",
      "Predicted Gain: 0 Yards\n",
      "Second Pass Choice: DEEP LEFT\n",
      "Predicted Gain: 0 Yards\n",
      "Top Run Choice: RIGHT END\n",
      "Predicted Gain: 1 Yards\n",
      "Second Run Choice: LEFT END\n",
      "Predicted Gain: 0 Yards\n"
     ]
    }
   ],
   "source": [
    "get_play('NE', 1, 10, 20, pass_pred_df, rush_pred_df, data)"
   ]
  }
 ],
 "metadata": {
  "kernelspec": {
   "display_name": "Python 3",
   "language": "python",
   "name": "python3"
  },
  "language_info": {
   "codemirror_mode": {
    "name": "ipython",
    "version": 3
   },
   "file_extension": ".py",
   "mimetype": "text/x-python",
   "name": "python",
   "nbconvert_exporter": "python",
   "pygments_lexer": "ipython3",
   "version": "3.10.14"
  }
 },
 "nbformat": 4,
 "nbformat_minor": 2
}
