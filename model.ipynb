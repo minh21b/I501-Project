{
 "cells": [
  {
   "cell_type": "code",
   "execution_count": 26,
   "metadata": {},
   "outputs": [],
   "source": [
    "import os\n",
    "import pickle\n",
    "from utils.b2 import B2\n",
    "from utils.modeling import *\n",
    "import streamlit as st\n",
    "from dotenv import load_dotenv\n",
    "import numpy as np\n",
    "from implicit.als import AlternatingLeastSquares\n",
    "from sklearn.metrics import mean_squared_error\n",
    "from scipy.sparse import coo_matrix"
   ]
  },
  {
   "cell_type": "code",
   "execution_count": 27,
   "metadata": {},
   "outputs": [],
   "source": [
    "# ------------------------------------------------------\n",
    "#                      APP CONSTANTS\n",
    "# ------------------------------------------------------\n",
    "REMOTE_DATA = 'pbp-2023.csv'"
   ]
  },
  {
   "cell_type": "code",
   "execution_count": 28,
   "metadata": {},
   "outputs": [
    {
     "data": {
      "text/plain": [
       "True"
      ]
     },
     "execution_count": 28,
     "metadata": {},
     "output_type": "execute_result"
    }
   ],
   "source": [
    "# ------------------------------------------------------\n",
    "#                        CONFIG\n",
    "# ------------------------------------------------------\n",
    "load_dotenv()"
   ]
  },
  {
   "cell_type": "code",
   "execution_count": 29,
   "metadata": {},
   "outputs": [],
   "source": [
    "# load Backblaze connection\n",
    "b2 = B2(endpoint=os.environ['B2_ENDPOINT'],\n",
    "        key_id=os.environ['B2_KEYID'],\n",
    "        secret_key=os.environ['B2_APPKEY'])"
   ]
  },
  {
   "cell_type": "code",
   "execution_count": 30,
   "metadata": {},
   "outputs": [
    {
     "name": "stderr",
     "output_type": "stream",
     "text": [
      "2024-03-27 00:09:58.366 No runtime found, using MemoryCacheStorageManager\n"
     ]
    }
   ],
   "source": [
    "# ------------------------------------------------------\n",
    "#                        CACHING\n",
    "# ------------------------------------------------------\n",
    "@st.cache_data\n",
    "def get_data():\n",
    "    # collect data frame of reviews and their sentiment\n",
    "    b2.set_bucket(os.environ['B2_BUCKETNAME'])\n",
    "    df_pbp = b2.get_df(REMOTE_DATA)\n",
    "\n",
    "    return df_pbp"
   ]
  },
  {
   "cell_type": "code",
   "execution_count": 31,
   "metadata": {},
   "outputs": [
    {
     "data": {
      "text/html": [
       "<div>\n",
       "<style scoped>\n",
       "    .dataframe tbody tr th:only-of-type {\n",
       "        vertical-align: middle;\n",
       "    }\n",
       "\n",
       "    .dataframe tbody tr th {\n",
       "        vertical-align: top;\n",
       "    }\n",
       "\n",
       "    .dataframe thead th {\n",
       "        text-align: right;\n",
       "    }\n",
       "</style>\n",
       "<table border=\"1\" class=\"dataframe\">\n",
       "  <thead>\n",
       "    <tr style=\"text-align: right;\">\n",
       "      <th></th>\n",
       "      <th>GameId</th>\n",
       "      <th>Quarter</th>\n",
       "      <th>Minute</th>\n",
       "      <th>Second</th>\n",
       "      <th>OffenseTeam</th>\n",
       "      <th>DefenseTeam</th>\n",
       "      <th>Down</th>\n",
       "      <th>ToGo</th>\n",
       "      <th>YardLine</th>\n",
       "      <th>SeriesFirstDown</th>\n",
       "      <th>...</th>\n",
       "      <th>IsChallenge</th>\n",
       "      <th>IsInterception</th>\n",
       "      <th>IsFumble</th>\n",
       "      <th>IsPenalty</th>\n",
       "      <th>IsTwoPointConversion</th>\n",
       "      <th>IsTwoPointConversionSuccessful</th>\n",
       "      <th>RushDirection</th>\n",
       "      <th>SitID</th>\n",
       "      <th>TeamID</th>\n",
       "      <th>PlayID</th>\n",
       "    </tr>\n",
       "  </thead>\n",
       "  <tbody>\n",
       "    <tr>\n",
       "      <th>0</th>\n",
       "      <td>2023121101</td>\n",
       "      <td>3</td>\n",
       "      <td>1</td>\n",
       "      <td>35</td>\n",
       "      <td>NYG</td>\n",
       "      <td>GB</td>\n",
       "      <td>3</td>\n",
       "      <td>7</td>\n",
       "      <td>92</td>\n",
       "      <td>1</td>\n",
       "      <td>...</td>\n",
       "      <td>0</td>\n",
       "      <td>0</td>\n",
       "      <td>0</td>\n",
       "      <td>0</td>\n",
       "      <td>0</td>\n",
       "      <td>0</td>\n",
       "      <td>NaN</td>\n",
       "      <td>130792</td>\n",
       "      <td>1</td>\n",
       "      <td>201</td>\n",
       "    </tr>\n",
       "    <tr>\n",
       "      <th>1</th>\n",
       "      <td>2023121101</td>\n",
       "      <td>3</td>\n",
       "      <td>2</td>\n",
       "      <td>19</td>\n",
       "      <td>NYG</td>\n",
       "      <td>GB</td>\n",
       "      <td>2</td>\n",
       "      <td>11</td>\n",
       "      <td>88</td>\n",
       "      <td>0</td>\n",
       "      <td>...</td>\n",
       "      <td>0</td>\n",
       "      <td>0</td>\n",
       "      <td>0</td>\n",
       "      <td>0</td>\n",
       "      <td>0</td>\n",
       "      <td>0</td>\n",
       "      <td>RIGHT GUARD</td>\n",
       "      <td>121188</td>\n",
       "      <td>1</td>\n",
       "      <td>102</td>\n",
       "    </tr>\n",
       "    <tr>\n",
       "      <th>2</th>\n",
       "      <td>2023121101</td>\n",
       "      <td>3</td>\n",
       "      <td>2</td>\n",
       "      <td>56</td>\n",
       "      <td>NYG</td>\n",
       "      <td>GB</td>\n",
       "      <td>1</td>\n",
       "      <td>10</td>\n",
       "      <td>89</td>\n",
       "      <td>0</td>\n",
       "      <td>...</td>\n",
       "      <td>0</td>\n",
       "      <td>0</td>\n",
       "      <td>0</td>\n",
       "      <td>0</td>\n",
       "      <td>0</td>\n",
       "      <td>0</td>\n",
       "      <td>CENTER</td>\n",
       "      <td>111089</td>\n",
       "      <td>1</td>\n",
       "      <td>103</td>\n",
       "    </tr>\n",
       "    <tr>\n",
       "      <th>3</th>\n",
       "      <td>2023121101</td>\n",
       "      <td>3</td>\n",
       "      <td>3</td>\n",
       "      <td>43</td>\n",
       "      <td>NYG</td>\n",
       "      <td>GB</td>\n",
       "      <td>1</td>\n",
       "      <td>10</td>\n",
       "      <td>64</td>\n",
       "      <td>1</td>\n",
       "      <td>...</td>\n",
       "      <td>0</td>\n",
       "      <td>0</td>\n",
       "      <td>0</td>\n",
       "      <td>0</td>\n",
       "      <td>0</td>\n",
       "      <td>0</td>\n",
       "      <td>NaN</td>\n",
       "      <td>111064</td>\n",
       "      <td>1</td>\n",
       "      <td>203</td>\n",
       "    </tr>\n",
       "    <tr>\n",
       "      <th>4</th>\n",
       "      <td>2023121101</td>\n",
       "      <td>3</td>\n",
       "      <td>4</td>\n",
       "      <td>29</td>\n",
       "      <td>NYG</td>\n",
       "      <td>GB</td>\n",
       "      <td>2</td>\n",
       "      <td>3</td>\n",
       "      <td>55</td>\n",
       "      <td>1</td>\n",
       "      <td>...</td>\n",
       "      <td>0</td>\n",
       "      <td>0</td>\n",
       "      <td>0</td>\n",
       "      <td>0</td>\n",
       "      <td>0</td>\n",
       "      <td>0</td>\n",
       "      <td>RIGHT GUARD</td>\n",
       "      <td>120355</td>\n",
       "      <td>1</td>\n",
       "      <td>102</td>\n",
       "    </tr>\n",
       "    <tr>\n",
       "      <th>...</th>\n",
       "      <td>...</td>\n",
       "      <td>...</td>\n",
       "      <td>...</td>\n",
       "      <td>...</td>\n",
       "      <td>...</td>\n",
       "      <td>...</td>\n",
       "      <td>...</td>\n",
       "      <td>...</td>\n",
       "      <td>...</td>\n",
       "      <td>...</td>\n",
       "      <td>...</td>\n",
       "      <td>...</td>\n",
       "      <td>...</td>\n",
       "      <td>...</td>\n",
       "      <td>...</td>\n",
       "      <td>...</td>\n",
       "      <td>...</td>\n",
       "      <td>...</td>\n",
       "      <td>...</td>\n",
       "      <td>...</td>\n",
       "      <td>...</td>\n",
       "    </tr>\n",
       "    <tr>\n",
       "      <th>19711</th>\n",
       "      <td>2023091011</td>\n",
       "      <td>4</td>\n",
       "      <td>3</td>\n",
       "      <td>43</td>\n",
       "      <td>NE</td>\n",
       "      <td>PHI</td>\n",
       "      <td>1</td>\n",
       "      <td>10</td>\n",
       "      <td>89</td>\n",
       "      <td>1</td>\n",
       "      <td>...</td>\n",
       "      <td>0</td>\n",
       "      <td>0</td>\n",
       "      <td>0</td>\n",
       "      <td>0</td>\n",
       "      <td>0</td>\n",
       "      <td>0</td>\n",
       "      <td>NaN</td>\n",
       "      <td>2811089</td>\n",
       "      <td>28</td>\n",
       "      <td>201</td>\n",
       "    </tr>\n",
       "    <tr>\n",
       "      <th>19712</th>\n",
       "      <td>2023091012</td>\n",
       "      <td>4</td>\n",
       "      <td>3</td>\n",
       "      <td>16</td>\n",
       "      <td>LA</td>\n",
       "      <td>SEA</td>\n",
       "      <td>1</td>\n",
       "      <td>10</td>\n",
       "      <td>42</td>\n",
       "      <td>0</td>\n",
       "      <td>...</td>\n",
       "      <td>0</td>\n",
       "      <td>0</td>\n",
       "      <td>0</td>\n",
       "      <td>0</td>\n",
       "      <td>0</td>\n",
       "      <td>0</td>\n",
       "      <td>RIGHT TACKLE</td>\n",
       "      <td>2611042</td>\n",
       "      <td>26</td>\n",
       "      <td>107</td>\n",
       "    </tr>\n",
       "    <tr>\n",
       "      <th>19713</th>\n",
       "      <td>2023091012</td>\n",
       "      <td>4</td>\n",
       "      <td>9</td>\n",
       "      <td>9</td>\n",
       "      <td>LA</td>\n",
       "      <td>SEA</td>\n",
       "      <td>1</td>\n",
       "      <td>10</td>\n",
       "      <td>25</td>\n",
       "      <td>0</td>\n",
       "      <td>...</td>\n",
       "      <td>0</td>\n",
       "      <td>0</td>\n",
       "      <td>0</td>\n",
       "      <td>0</td>\n",
       "      <td>0</td>\n",
       "      <td>0</td>\n",
       "      <td>RIGHT TACKLE</td>\n",
       "      <td>2611025</td>\n",
       "      <td>26</td>\n",
       "      <td>107</td>\n",
       "    </tr>\n",
       "    <tr>\n",
       "      <th>19714</th>\n",
       "      <td>2023091004</td>\n",
       "      <td>3</td>\n",
       "      <td>15</td>\n",
       "      <td>0</td>\n",
       "      <td>TB</td>\n",
       "      <td>MIN</td>\n",
       "      <td>1</td>\n",
       "      <td>10</td>\n",
       "      <td>25</td>\n",
       "      <td>0</td>\n",
       "      <td>...</td>\n",
       "      <td>0</td>\n",
       "      <td>0</td>\n",
       "      <td>0</td>\n",
       "      <td>0</td>\n",
       "      <td>0</td>\n",
       "      <td>0</td>\n",
       "      <td>LEFT TACKLE</td>\n",
       "      <td>2311025</td>\n",
       "      <td>23</td>\n",
       "      <td>108</td>\n",
       "    </tr>\n",
       "    <tr>\n",
       "      <th>19715</th>\n",
       "      <td>2023091004</td>\n",
       "      <td>2</td>\n",
       "      <td>15</td>\n",
       "      <td>0</td>\n",
       "      <td>TB</td>\n",
       "      <td>MIN</td>\n",
       "      <td>3</td>\n",
       "      <td>4</td>\n",
       "      <td>16</td>\n",
       "      <td>0</td>\n",
       "      <td>...</td>\n",
       "      <td>0</td>\n",
       "      <td>0</td>\n",
       "      <td>0</td>\n",
       "      <td>0</td>\n",
       "      <td>0</td>\n",
       "      <td>0</td>\n",
       "      <td>LEFT END</td>\n",
       "      <td>2330416</td>\n",
       "      <td>23</td>\n",
       "      <td>104</td>\n",
       "    </tr>\n",
       "  </tbody>\n",
       "</table>\n",
       "<p>19716 rows × 30 columns</p>\n",
       "</div>"
      ],
      "text/plain": [
       "           GameId  Quarter  Minute  Second OffenseTeam DefenseTeam  Down  \\\n",
       "0      2023121101        3       1      35         NYG          GB     3   \n",
       "1      2023121101        3       2      19         NYG          GB     2   \n",
       "2      2023121101        3       2      56         NYG          GB     1   \n",
       "3      2023121101        3       3      43         NYG          GB     1   \n",
       "4      2023121101        3       4      29         NYG          GB     2   \n",
       "...           ...      ...     ...     ...         ...         ...   ...   \n",
       "19711  2023091011        4       3      43          NE         PHI     1   \n",
       "19712  2023091012        4       3      16          LA         SEA     1   \n",
       "19713  2023091012        4       9       9          LA         SEA     1   \n",
       "19714  2023091004        3      15       0          TB         MIN     1   \n",
       "19715  2023091004        2      15       0          TB         MIN     3   \n",
       "\n",
       "       ToGo  YardLine  SeriesFirstDown  ... IsChallenge  IsInterception  \\\n",
       "0         7        92                1  ...           0               0   \n",
       "1        11        88                0  ...           0               0   \n",
       "2        10        89                0  ...           0               0   \n",
       "3        10        64                1  ...           0               0   \n",
       "4         3        55                1  ...           0               0   \n",
       "...     ...       ...              ...  ...         ...             ...   \n",
       "19711    10        89                1  ...           0               0   \n",
       "19712    10        42                0  ...           0               0   \n",
       "19713    10        25                0  ...           0               0   \n",
       "19714    10        25                0  ...           0               0   \n",
       "19715     4        16                0  ...           0               0   \n",
       "\n",
       "      IsFumble IsPenalty  IsTwoPointConversion  \\\n",
       "0            0         0                     0   \n",
       "1            0         0                     0   \n",
       "2            0         0                     0   \n",
       "3            0         0                     0   \n",
       "4            0         0                     0   \n",
       "...        ...       ...                   ...   \n",
       "19711        0         0                     0   \n",
       "19712        0         0                     0   \n",
       "19713        0         0                     0   \n",
       "19714        0         0                     0   \n",
       "19715        0         0                     0   \n",
       "\n",
       "       IsTwoPointConversionSuccessful  RushDirection    SitID TeamID  PlayID  \n",
       "0                                   0            NaN   130792      1     201  \n",
       "1                                   0    RIGHT GUARD   121188      1     102  \n",
       "2                                   0         CENTER   111089      1     103  \n",
       "3                                   0            NaN   111064      1     203  \n",
       "4                                   0    RIGHT GUARD   120355      1     102  \n",
       "...                               ...            ...      ...    ...     ...  \n",
       "19711                               0            NaN  2811089     28     201  \n",
       "19712                               0   RIGHT TACKLE  2611042     26     107  \n",
       "19713                               0   RIGHT TACKLE  2611025     26     107  \n",
       "19714                               0    LEFT TACKLE  2311025     23     108  \n",
       "19715                               0       LEFT END  2330416     23     104  \n",
       "\n",
       "[19716 rows x 30 columns]"
      ]
     },
     "execution_count": 31,
     "metadata": {},
     "output_type": "execute_result"
    }
   ],
   "source": [
    "data = get_data()\n",
    "data"
   ]
  },
  {
   "cell_type": "code",
   "execution_count": 32,
   "metadata": {},
   "outputs": [],
   "source": [
    "rush_plays = data[data['IsRush'] == 1]\n",
    "pass_plays = data[data['IsPass'] == 1]"
   ]
  },
  {
   "cell_type": "markdown",
   "metadata": {},
   "source": [
    "## Model for rush plays"
   ]
  },
  {
   "cell_type": "code",
   "execution_count": 33,
   "metadata": {},
   "outputs": [
    {
     "name": "stderr",
     "output_type": "stream",
     "text": [
      "c:\\Users\\Minh\\miniconda3\\envs\\i501-project\\lib\\site-packages\\implicit\\utils.py:164: ParameterWarning: Method expects CSR input, and was passed coo_matrix instead. Converting to CSR took 0.0004968643188476562 seconds\n",
      "  warnings.warn(\n",
      "100%|██████████| 5/5 [00:02<00:00,  2.19it/s]\n"
     ]
    }
   ],
   "source": [
    "# Train ALS model for rush plays\n",
    "rush_model = train_als_model(rush_plays)"
   ]
  },
  {
   "cell_type": "code",
   "execution_count": 34,
   "metadata": {},
   "outputs": [
    {
     "data": {
      "text/plain": [
       "3.4636428171726896"
      ]
     },
     "execution_count": 34,
     "metadata": {},
     "output_type": "execute_result"
    }
   ],
   "source": [
    "# Calculate RMSE for rush plays\n",
    "rush_rmse = calculate_rmse(rush_model, rush_plays)\n",
    "rush_rmse"
   ]
  },
  {
   "cell_type": "markdown",
   "metadata": {},
   "source": [
    "## Model for pass plays"
   ]
  },
  {
   "cell_type": "code",
   "execution_count": 35,
   "metadata": {},
   "outputs": [
    {
     "name": "stderr",
     "output_type": "stream",
     "text": [
      "c:\\Users\\Minh\\miniconda3\\envs\\i501-project\\lib\\site-packages\\implicit\\utils.py:164: ParameterWarning: Method expects CSR input, and was passed coo_matrix instead. Converting to CSR took 0.0 seconds\n",
      "  warnings.warn(\n",
      "100%|██████████| 5/5 [00:02<00:00,  1.85it/s]\n"
     ]
    }
   ],
   "source": [
    "pass_model = train_als_model(pass_plays)"
   ]
  },
  {
   "cell_type": "code",
   "execution_count": 36,
   "metadata": {},
   "outputs": [
    {
     "data": {
      "text/plain": [
       "7.380806343220903"
      ]
     },
     "execution_count": 36,
     "metadata": {},
     "output_type": "execute_result"
    }
   ],
   "source": [
    "pass_rmse = calculate_rmse(pass_model, pass_plays)\n",
    "pass_rmse"
   ]
  },
  {
   "cell_type": "markdown",
   "metadata": {},
   "source": [
    "## Initial Recommender"
   ]
  },
  {
   "cell_type": "code",
   "execution_count": 37,
   "metadata": {},
   "outputs": [],
   "source": [
    "import pandas as pd"
   ]
  },
  {
   "cell_type": "code",
   "execution_count": 38,
   "metadata": {},
   "outputs": [],
   "source": [
    "pass_prediction = predict_ratings(pass_model)\n",
    "rush_prediction = predict_ratings(rush_model)"
   ]
  },
  {
   "cell_type": "code",
   "execution_count": null,
   "metadata": {},
   "outputs": [],
   "source": []
  },
  {
   "cell_type": "code",
   "execution_count": 39,
   "metadata": {},
   "outputs": [
    {
     "name": "stdout",
     "output_type": "stream",
     "text": [
      "                 201           203           204           205           206  \\\n",
      "130792 -1.376475e-02 -5.292662e-03 -2.636018e-03  7.493966e-01 -1.439670e-02   \n",
      "111064 -6.114335e-11  1.617473e-10  1.647742e-11  1.612517e-10 -2.983586e-11   \n",
      "220756  8.433750e-01 -2.822801e-03 -3.706921e-03 -1.275725e-02 -1.242319e-02   \n",
      "111069  1.002178e+00 -3.357262e-03 -4.396595e-03 -1.517411e-02 -1.476048e-02   \n",
      "511052 -2.312991e-02  1.014072e+00 -1.827671e-03 -3.402809e-02 -2.224168e-02   \n",
      "\n",
      "                 207  \n",
      "130792  2.903337e-04  \n",
      "111064 -6.152442e-11  \n",
      "220756 -4.686197e-04  \n",
      "111069 -5.704103e-04  \n",
      "511052  8.460073e-03  \n"
     ]
    }
   ],
   "source": [
    "# Define row and column names\n",
    "row_names = pass_plays['SitID'].unique()\n",
    "col_names = pass_plays['PlayID'].unique()\n",
    "\n",
    "# Create DataFrame\n",
    "pass_pred_df = pd.DataFrame(pass_prediction, index=row_names, columns=col_names)\n",
    "\n",
    "# Display DataFrame\n",
    "print(pass_pred_df.head())"
   ]
  },
  {
   "cell_type": "code",
   "execution_count": 40,
   "metadata": {},
   "outputs": [
    {
     "name": "stdout",
     "output_type": "stream",
     "text": [
      "                 102           103           104           105           106  \\\n",
      "121188 -8.032175e-03 -1.314418e-02 -5.370577e-03 -4.674552e-03 -5.897369e-03   \n",
      "111089  2.638367e-11  7.492065e-11 -8.800072e-11 -1.686921e-11 -2.393626e-11   \n",
      "120355 -1.510533e-02 -1.341257e-02  9.454886e-01 -8.480371e-03 -1.088741e-02   \n",
      "231565 -8.240388e-03 -7.501468e-03 -1.819033e-02 -6.685348e-03 -1.452834e-02   \n",
      "211053 -8.294441e-03 -1.878190e-02 -7.721137e-03 -6.668874e-03 -8.368893e-03   \n",
      "\n",
      "                 107           108  \n",
      "121188  7.151322e-01 -8.203869e-03  \n",
      "111089  5.290677e-11  2.034956e-11  \n",
      "120355 -5.954822e-03 -2.925484e-02  \n",
      "231565 -8.497369e-03  8.420964e-01  \n",
      "211053  1.018074e+00 -1.172264e-02  \n"
     ]
    }
   ],
   "source": [
    "# Define row and column names\n",
    "row_names = rush_plays['SitID'].unique()\n",
    "col_names = rush_plays['PlayID'].unique()\n",
    "\n",
    "# Create DataFrame\n",
    "rush_pred_df = pd.DataFrame(rush_prediction, index=row_names, columns=col_names)\n",
    "\n",
    "# Display DataFrame\n",
    "print(rush_pred_df.head())"
   ]
  },
  {
   "cell_type": "code",
   "execution_count": 46,
   "metadata": {},
   "outputs": [
    {
     "data": {
      "text/plain": [
       "203    1.617473e-10\n",
       "205    1.612517e-10\n",
       "Name: 111064, dtype: float32"
      ]
     },
     "execution_count": 46,
     "metadata": {},
     "output_type": "execute_result"
    }
   ],
   "source": [
    "best_pass = pass_pred_df.loc[111064].nlargest(2)\n",
    "best_pass"
   ]
  },
  {
   "cell_type": "code",
   "execution_count": 41,
   "metadata": {},
   "outputs": [],
   "source": [
    "def get_play(team, down, distance, yardline, pass_pred_df, rush_pred_df, plays_df):\n",
    "    teamId = data.loc[data['OffenseTeam'] == team, 'TeamID'].values[0]\n",
    "    SitId = int(yardline + 100 * distance + 10000 * down + 100000 * teamId)\n",
    "    \n",
    "    if SitId in pass_pred_df.index:\n",
    "        best_pass = pass_pred_df.loc[SitId].nlargest(2)\n",
    "        print(\"Top Pass Choice:\", plays_df.loc[plays_df['PlayID'] == int(best_pass.index[0]), 'PassType'].values[0])\n",
    "        print(\"Predicted Gain:\", round(best_pass.iloc[0]), \"Yards\")\n",
    "        \n",
    "        print(\"Second Pass Choice:\", plays_df.loc[plays_df['PlayID'] == int(best_pass.index[1]), 'PassType'].values[0])\n",
    "        print(\"Predicted Gain:\", round(best_pass.iloc[1]), \"Yards\")\n",
    "    else:\n",
    "        best_pass = pass_pred_df.mean().nlargest(2)\n",
    "        print(\"Top Pass Choice:\", plays_df.loc[plays_df['PlayID'] == int(best_pass.index[0]), 'PassType'].values[0])\n",
    "        print(\"Predicted Gain:\", round(best_pass.iloc[0]), \"Yards\")\n",
    "        \n",
    "        print(\"Second Pass Choice:\", plays_df.loc[plays_df['PlayID'] == int(best_pass.index[1]), 'PassType'].values[0])\n",
    "        print(\"Predicted Gain:\", round(best_pass.iloc[1]), \"Yards\")\n",
    "\n",
    "    if SitId in rush_pred_df.index:\n",
    "        best_rush = rush_pred_df.loc[SitId].nlargest(2)\n",
    "        print(\"Top Run Choice:\", plays_df.loc[plays_df['PlayID'] == int(best_rush.index[0]), 'RushDirection'].values[0])\n",
    "        print(\"Predicted Gain:\", round(best_rush.iloc[0]), \"Yards\")\n",
    "        \n",
    "        print(\"Second Run Choice:\", plays_df.loc[plays_df['PlayID'] == int(best_rush.index[1]), 'RushDirection'].values[0])\n",
    "        print(\"Predicted Gain:\", round(best_rush.iloc[1]), \"Yards\")\n",
    "    else:\n",
    "        best_rush = rush_pred_df.mean().nlargest(2)\n",
    "        print(\"Top Run Choice:\", plays_df.loc[plays_df['PlayID'] == int(best_rush.index[0]), 'RushDirection'].values[0])\n",
    "        print(\"Predicted Gain:\", round(best_rush.iloc[0]), \"Yards\")\n",
    "        \n",
    "        print(\"Second Run Choice:\", plays_df.loc[plays_df['PlayID'] == int(best_rush.index[1]), 'RushDirection'].values[0])\n",
    "        print(\"Predicted Gain:\", round(best_rush.iloc[1]), \"Yards\")"
   ]
  },
  {
   "cell_type": "code",
   "execution_count": 42,
   "metadata": {},
   "outputs": [
    {
     "name": "stdout",
     "output_type": "stream",
     "text": [
      "Top Pass Choice: DEEP MIDDLE\n",
      "Predicted Gain: 0 Yards\n",
      "Second Pass Choice: SHORT RIGHT\n",
      "Predicted Gain: 0 Yards\n",
      "Top Run Choice: CENTER\n",
      "Predicted Gain: 1 Yards\n",
      "Second Run Choice: LEFT TACKLE\n",
      "Predicted Gain: 0 Yards\n"
     ]
    }
   ],
   "source": [
    "get_play('NE', 1, 10, 20, pass_pred_df, rush_pred_df, data)"
   ]
  }
 ],
 "metadata": {
  "kernelspec": {
   "display_name": "Python 3",
   "language": "python",
   "name": "python3"
  },
  "language_info": {
   "codemirror_mode": {
    "name": "ipython",
    "version": 3
   },
   "file_extension": ".py",
   "mimetype": "text/x-python",
   "name": "python",
   "nbconvert_exporter": "python",
   "pygments_lexer": "ipython3",
   "version": "3.10.13"
  }
 },
 "nbformat": 4,
 "nbformat_minor": 2
}
